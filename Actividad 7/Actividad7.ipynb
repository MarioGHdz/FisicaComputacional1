{
  "nbformat": 4,
  "nbformat_minor": 0,
  "metadata": {
    "colab": {
      "name": "Actividad7.ipynb",
      "provenance": []
    },
    "kernelspec": {
      "name": "python3",
      "display_name": "Python 3"
    }
  },
  "cells": [
    {
      "cell_type": "markdown",
      "metadata": {
        "id": "hDidE321EcW2"
      },
      "source": [
        "### Algebra Lineal con SciPy.\n",
        "\n",
        "Utilizaremos la biblioteca *scipy.linalg* para operar con vectores y matrices (Arreglos de NumPy: 1-D, 2-D, 3-D, etc). \n"
      ]
    },
    {
      "cell_type": "code",
      "metadata": {
        "id": "KmGFgdO9-NmQ"
      },
      "source": [
        "# 4 de marzo de 2021\n",
        "# Cargamos las bibliotecas para trabajar en Algebra Lineal\n",
        "\n",
        "import numpy as np\n",
        "import scipy.linalg as la\n",
        "from numpy.linalg import matrix_power as mpow\n",
        "\n",
        "import matplotlib.pyplot as plt\n",
        "%matplotlib inline"
      ],
      "execution_count": null,
      "outputs": []
    },
    {
      "cell_type": "markdown",
      "metadata": {
        "id": "tjGDja4GEpy2"
      },
      "source": [
        "### Arreglos de Numpy 1-D.\n",
        "\n",
        "Los arreglos en Python, tienen: dimensión, forma y tamaño. "
      ]
    },
    {
      "cell_type": "code",
      "metadata": {
        "colab": {
          "base_uri": "https://localhost:8080/"
        },
        "id": "MdCujLU6Evbi",
        "outputId": "6f5c2454-d865-4dc8-90cb-d33fbf0ce9d2"
      },
      "source": [
        "# Definimos un arreglo 1-D\n",
        "a = np.array([1,2,3,4,3,2,1])\n",
        "print(a)"
      ],
      "execution_count": null,
      "outputs": [
        {
          "output_type": "stream",
          "text": [
            "[1 2 3 4 3 2 1]\n"
          ],
          "name": "stdout"
        }
      ]
    },
    {
      "cell_type": "code",
      "metadata": {
        "colab": {
          "base_uri": "https://localhost:8080/"
        },
        "id": "v-XwW97iE6Z-",
        "outputId": "ad90970b-1c15-4c06-bac1-fe2e2f0a9ae2"
      },
      "source": [
        "# Propiedades del arreglo anterior\n",
        "print('Número de dimensiones:', a.ndim)\n",
        "print('Forma (shape):', a.shape)\n",
        "print('Tamaño (size):', a.size)"
      ],
      "execution_count": null,
      "outputs": [
        {
          "output_type": "stream",
          "text": [
            "Número de dimensiones: 1\n",
            "Forma (shape): (7,)\n",
            "Tamaño (size): 7\n"
          ],
          "name": "stdout"
        }
      ]
    },
    {
      "cell_type": "markdown",
      "metadata": {
        "id": "_YEsfO0bFG_y"
      },
      "source": [
        "### Arreglo Numpy 2-D\n"
      ]
    },
    {
      "cell_type": "code",
      "metadata": {
        "colab": {
          "base_uri": "https://localhost:8080/"
        },
        "id": "q98KIZz4FIT6",
        "outputId": "9a78992d-5c4c-41fb-b783-1fad0783f6ad"
      },
      "source": [
        "# Definimos un arreglo 2-D. Pensemos en una Matriz M de 2-D.\n",
        "M = np.array([[1,2],[3,4],[5,6],[7,8]])\n",
        "print(M)"
      ],
      "execution_count": null,
      "outputs": [
        {
          "output_type": "stream",
          "text": [
            "[[1 2]\n",
            " [3 4]\n",
            " [5 6]\n",
            " [7 8]]\n"
          ],
          "name": "stdout"
        }
      ]
    },
    {
      "cell_type": "code",
      "metadata": {
        "colab": {
          "base_uri": "https://localhost:8080/"
        },
        "id": "kgAxIiHKFLnq",
        "outputId": "eed20b91-ce00-430b-98e9-662a12287dca"
      },
      "source": [
        "# Propiedades del arreglo anterior. \n",
        "print('Número de dimensiones:', M.ndim)\n",
        "print('Forma (shape):', M.shape)\n",
        "print('Tamaño (size):', M.size)"
      ],
      "execution_count": null,
      "outputs": [
        {
          "output_type": "stream",
          "text": [
            "Número de dimensiones: 2\n",
            "Forma (shape): (4, 2)\n",
            "Tamaño (size): 8\n"
          ],
          "name": "stdout"
        }
      ]
    },
    {
      "cell_type": "code",
      "metadata": {
        "colab": {
          "base_uri": "https://localhost:8080/"
        },
        "id": "0E9vZ8ZrF1gD",
        "outputId": "ddb249b1-8bbd-493b-bdba-d7862117bd76"
      },
      "source": [
        "# Podemos seleccionar una columna 1 de la matriz M (columnas:0,1) \n",
        "col = M[:,1] \n",
        "print(col)"
      ],
      "execution_count": null,
      "outputs": [
        {
          "output_type": "stream",
          "text": [
            "[2 4 6 8]\n"
          ],
          "name": "stdout"
        }
      ]
    },
    {
      "cell_type": "code",
      "metadata": {
        "colab": {
          "base_uri": "https://localhost:8080/"
        },
        "id": "DVUea57xGHfp",
        "outputId": "64c4ba51-eca8-49ba-e2ac-16c52bfa41dd"
      },
      "source": [
        "# Propiedades del arreglo anterior. \n",
        "print('Número de dimensiones:', col.ndim)\n",
        "print('Forma (shape):', col.shape)\n",
        "print('Tamaño (size):', col.size)"
      ],
      "execution_count": null,
      "outputs": [
        {
          "output_type": "stream",
          "text": [
            "Número de dimensiones: 1\n",
            "Forma (shape): (4,)\n",
            "Tamaño (size): 4\n"
          ],
          "name": "stdout"
        }
      ]
    },
    {
      "cell_type": "markdown",
      "metadata": {
        "id": "cLDHbtqCGN7a"
      },
      "source": [
        "Pero, si seleccionamos una columna de una matriz 2-D, estamos seleccionando uno de los vectores en un espacio 2-D. Tenemos que usar la función .reshape()"
      ]
    },
    {
      "cell_type": "code",
      "metadata": {
        "colab": {
          "base_uri": "https://localhost:8080/"
        },
        "id": "CfDByW9hGO2j",
        "outputId": "6ee20d23-a6ed-41b4-ab1c-1133ab9b4a54"
      },
      "source": [
        "column = col.reshape(4,1)\n",
        "print(column)"
      ],
      "execution_count": null,
      "outputs": [
        {
          "output_type": "stream",
          "text": [
            "[[2]\n",
            " [4]\n",
            " [6]\n",
            " [8]]\n"
          ],
          "name": "stdout"
        }
      ]
    },
    {
      "cell_type": "code",
      "metadata": {
        "colab": {
          "base_uri": "https://localhost:8080/"
        },
        "id": "bos9tAG4GVDw",
        "outputId": "17a7a9c0-efc1-4713-da8c-8f272da52373"
      },
      "source": [
        "# Propiedades del arreglo anterior. \n",
        "print('Número de dimensiones:', column.ndim)\n",
        "print('Forma (shape):', column.shape)\n",
        "print('Tamaño (size):', column.size)"
      ],
      "execution_count": null,
      "outputs": [
        {
          "output_type": "stream",
          "text": [
            "Número de dimensiones: 2\n",
            "Forma (shape): (4, 1)\n",
            "Tamaño (size): 4\n"
          ],
          "name": "stdout"
        }
      ]
    },
    {
      "cell_type": "markdown",
      "metadata": {
        "id": "mXNRIaNaGXxY"
      },
      "source": [
        "Aunque la variable 'col' y 'column' tengan los mismos datos, son dos objetos distintos."
      ]
    },
    {
      "cell_type": "markdown",
      "metadata": {
        "id": "cAIUnsw5Gdfp"
      },
      "source": [
        "\n",
        "### Operación y Funciones de Matrices.\n",
        "**Operaciones aritméticas**\n",
        "\n",
        "Las operaciones aritméticas +, -, /, * y ** se realizan elemento a elemento.\n",
        "\n",
        "Ejemplos:"
      ]
    },
    {
      "cell_type": "code",
      "metadata": {
        "colab": {
          "base_uri": "https://localhost:8080/"
        },
        "id": "dJkWSjz7GbFB",
        "outputId": "b40d7c8a-e2af-41fe-eba7-66efad5f81be"
      },
      "source": [
        "# Definimos una matriz M\n",
        "M = np.array([[1,2],[3,4]])\n",
        "print(M)"
      ],
      "execution_count": null,
      "outputs": [
        {
          "output_type": "stream",
          "text": [
            "[[1 2]\n",
            " [3 4]]\n"
          ],
          "name": "stdout"
        }
      ]
    },
    {
      "cell_type": "markdown",
      "metadata": {
        "id": "GQDs3zu1GpT_"
      },
      "source": [
        "\n",
        "**Multiplicación de Matrices**"
      ]
    },
    {
      "cell_type": "code",
      "metadata": {
        "colab": {
          "base_uri": "https://localhost:8080/"
        },
        "id": "ucLETsETGxOq",
        "outputId": "b8a2523a-8ba1-4683-e1ba-712960ff8f5c"
      },
      "source": [
        "# Producto simple (elemento a elemento)\n",
        "M*M"
      ],
      "execution_count": null,
      "outputs": [
        {
          "output_type": "execute_result",
          "data": {
            "text/plain": [
              "array([[ 1,  4],\n",
              "       [ 9, 16]])"
            ]
          },
          "metadata": {
            "tags": []
          },
          "execution_count": 12
        }
      ]
    },
    {
      "cell_type": "code",
      "metadata": {
        "colab": {
          "base_uri": "https://localhost:8080/"
        },
        "id": "UUdGrwCIG2kH",
        "outputId": "c03a1dcb-5edf-4afb-81cb-4c5bd4948c4b"
      },
      "source": [
        "# Producto matricial \n",
        "M@M"
      ],
      "execution_count": null,
      "outputs": [
        {
          "output_type": "execute_result",
          "data": {
            "text/plain": [
              "array([[ 7, 10],\n",
              "       [15, 22]])"
            ]
          },
          "metadata": {
            "tags": []
          },
          "execution_count": 13
        }
      ]
    },
    {
      "cell_type": "markdown",
      "metadata": {
        "id": "3-SO16KxHFGP"
      },
      "source": [
        "**Ejercicio 1.** Defina las siguientes matrices.\n",
        "\n",
        "\\begin{equation*}\n",
        " A\n",
        " =\n",
        "  \\begin{bmatrix}\n",
        "   1 & 3 \\\\\n",
        "   -1 & 7\n",
        "   \\end{bmatrix}\n",
        "\\end{equation*}\n",
        "\n",
        "\\begin{equation*}\n",
        " B =\n",
        "  \\begin{bmatrix}\n",
        "   5 & 2 \\\\\n",
        "   1 & 2\n",
        "   \\end{bmatrix}\n",
        "\\end{equation*}\n",
        "\n",
        " y la matrix identidad \n",
        "\n",
        " \\begin{equation*}\n",
        " I = \n",
        "   \\begin{bmatrix}\n",
        "   1 & 0 \\\\\n",
        "   0 & 1\n",
        "   \\end{bmatrix}\n",
        "\\end{equation*}\n",
        "\n",
        "Calcule el resultado de $2*I+3*A+A@B$.\n",
        "\n",
        "Para definir la matriz identidad, se puede utilizar la función *np.eye(2, dtype=int)*. Ver manual de  [np.eye()](https://numpy.org/doc/stable/reference/generated/numpy.eye.html)."
      ]
    },
    {
      "cell_type": "code",
      "metadata": {
        "colab": {
          "base_uri": "https://localhost:8080/"
        },
        "id": "rfrLygUaHSl5",
        "outputId": "79b98e7a-e7af-4870-a555-f8df3c8cbfa5"
      },
      "source": [
        "# Primero definimos las matrices A y B en 2-D\n",
        "\n",
        "A = np.array ([[1,3],[-1,7]])\n",
        "\n",
        "B = np.array ([[5,2],[1,2]]) \n",
        "\n",
        "#Posteriormente lo hacemos para la matriz identidad \n",
        "\n",
        "I = np.eye(2,dtype=int)\n",
        "\n",
        "#Realizamos las operaciones que se nos pide\n",
        "\n",
        "R = 2*I + 3*A + A@B\n",
        "\n",
        "print(R)"
      ],
      "execution_count": null,
      "outputs": [
        {
          "output_type": "stream",
          "text": [
            "[[13 17]\n",
            " [-1 35]]\n"
          ],
          "name": "stdout"
        }
      ]
    },
    {
      "cell_type": "markdown",
      "metadata": {
        "id": "xzQtbfylJyXP"
      },
      "source": [
        "**Potencias de Matrices**\n",
        "\n",
        "No existe un símbolo para denotar las potencias de matrices. Por eso definimos la función 'mpow' en la 1a celda de bibliotecas.\n",
        "\n",
        "from numpy.linalg import matrix_power as mpow"
      ]
    },
    {
      "cell_type": "code",
      "metadata": {
        "colab": {
          "base_uri": "https://localhost:8080/"
        },
        "id": "qyUMyeB-JKL_",
        "outputId": "eab0095c-d539-4826-c9c8-633884fb8859"
      },
      "source": [
        "# Teníamos una matriz M definida. \n",
        "print(M)"
      ],
      "execution_count": null,
      "outputs": [
        {
          "output_type": "stream",
          "text": [
            "[[1 2]\n",
            " [3 4]]\n"
          ],
          "name": "stdout"
        }
      ]
    },
    {
      "cell_type": "code",
      "metadata": {
        "colab": {
          "base_uri": "https://localhost:8080/"
        },
        "id": "eDpYKwhoKAxs",
        "outputId": "af897bd8-0656-45cf-839e-16eef908f8ef"
      },
      "source": [
        "# Cuadrado: M^2 = M@M\n",
        "print(M@M)\n",
        "print(mpow(M,2))"
      ],
      "execution_count": null,
      "outputs": [
        {
          "output_type": "stream",
          "text": [
            "[[ 7 10]\n",
            " [15 22]]\n",
            "[[ 7 10]\n",
            " [15 22]]\n"
          ],
          "name": "stdout"
        }
      ]
    },
    {
      "cell_type": "code",
      "metadata": {
        "colab": {
          "base_uri": "https://localhost:8080/"
        },
        "id": "d0WwetC-KKZK",
        "outputId": "b7005aa2-37f1-48dd-8ba3-e40bfe2e64c7"
      },
      "source": [
        "# Quinta potencia: M^5 = M@M@M@M@M\n",
        "print(M@M@M@M@M)\n",
        "print(mpow(M,5))"
      ],
      "execution_count": null,
      "outputs": [
        {
          "output_type": "stream",
          "text": [
            "[[1069 1558]\n",
            " [2337 3406]]\n",
            "[[1069 1558]\n",
            " [2337 3406]]\n"
          ],
          "name": "stdout"
        }
      ]
    },
    {
      "cell_type": "markdown",
      "metadata": {
        "id": "kg_tZzywKbFZ"
      },
      "source": [
        "**Matriz Transpuesta**\n",
        "$M^T$"
      ]
    },
    {
      "cell_type": "code",
      "metadata": {
        "colab": {
          "base_uri": "https://localhost:8080/"
        },
        "id": "xtX5D1JkKcPs",
        "outputId": "2fad7abd-7254-4db9-fe6d-af26a94f962e"
      },
      "source": [
        "# La matriz M y su transpuesta\n",
        "print(M)\n",
        "print(M.T)"
      ],
      "execution_count": null,
      "outputs": [
        {
          "output_type": "stream",
          "text": [
            "[[1 2]\n",
            " [3 4]]\n",
            "[[1 3]\n",
            " [2 4]]\n"
          ],
          "name": "stdout"
        }
      ]
    },
    {
      "cell_type": "code",
      "metadata": {
        "colab": {
          "base_uri": "https://localhost:8080/"
        },
        "id": "AAkEAXggKrd5",
        "outputId": "8238e89b-2d41-48aa-eb3d-02f46686a2eb"
      },
      "source": [
        "# El producto de M por M.T, debe ser una matriz simétrica.\n",
        "M @ M.T"
      ],
      "execution_count": null,
      "outputs": [
        {
          "output_type": "execute_result",
          "data": {
            "text/plain": [
              "array([[ 5, 11],\n",
              "       [11, 25]])"
            ]
          },
          "metadata": {
            "tags": []
          },
          "execution_count": 30
        }
      ]
    },
    {
      "cell_type": "markdown",
      "metadata": {
        "id": "OivJK4zPK41J"
      },
      "source": [
        "**Traza de una Matriz**\n",
        "\n",
        "Suma de los elementos de la diagonal. Usaremos la función de NumPy: *np.trace*.\n"
      ]
    },
    {
      "cell_type": "code",
      "metadata": {
        "colab": {
          "base_uri": "https://localhost:8080/"
        },
        "id": "zqqi3EpQK4XR",
        "outputId": "deeb67b4-87e9-4784-8250-0365b17aa1f2"
      },
      "source": [
        "# Traza de la matriz M.\n",
        "print(M)\n",
        "print(np.trace(M))"
      ],
      "execution_count": null,
      "outputs": [
        {
          "output_type": "stream",
          "text": [
            "[[1 2]\n",
            " [3 4]]\n",
            "5\n"
          ],
          "name": "stdout"
        }
      ]
    },
    {
      "cell_type": "markdown",
      "metadata": {
        "id": "yoyo_zNALAfA"
      },
      "source": [
        "**Determinante de una Matriz**\n",
        "\n",
        "Se utiliza la función [scipy.linalg.det](https://docs.scipy.org/doc/scipy/reference/generated/scipy.linalg.det.html#scipy.linalg.det) "
      ]
    },
    {
      "cell_type": "markdown",
      "metadata": {
        "id": "8SdSyEvwLEVs"
      },
      "source": [
        "Para la matriz M, \n",
        "\n",
        "\\begin{equation*}\n",
        " M\n",
        " =\n",
        "  \\begin{bmatrix}\n",
        "   a & b \\\\\n",
        "   c & d\n",
        "   \\end{bmatrix}\n",
        "\\end{equation*}\n",
        "\n",
        "det(M) = $ad-bc$\n"
      ]
    },
    {
      "cell_type": "code",
      "metadata": {
        "colab": {
          "base_uri": "https://localhost:8080/"
        },
        "id": "4VewZO4lLFua",
        "outputId": "0904de5e-3da3-4c1b-afb7-e1616cdfb7de"
      },
      "source": [
        "# Determinante de la matriz M\n",
        "print(M)\n",
        "print(la.det(M))"
      ],
      "execution_count": null,
      "outputs": [
        {
          "output_type": "stream",
          "text": [
            "[[1 2]\n",
            " [3 4]]\n",
            "-2.0\n"
          ],
          "name": "stdout"
        }
      ]
    },
    {
      "cell_type": "markdown",
      "metadata": {
        "id": "cvbr8W1nLKVB"
      },
      "source": [
        "**Matriz Inversa**\n",
        "\n",
        "Se calcula con la función [scipy.linalg.inv](https://docs.scipy.org/doc/scipy/reference/generated/scipy.linalg.inv.html#scipy.linalg.inv)\n",
        "\n",
        "**Nota:** Para invertir una Matriz, su Determinante no debe ser cero.\n",
        "\n",
        "Para una matriz $M$, la inversa $M^{-1}$\n",
        "\n",
        "\\begin{equation*}\n",
        " M\n",
        " =\n",
        "  \\begin{bmatrix}\n",
        "   a & b \\\\\n",
        "   c & d\n",
        "   \\end{bmatrix}\n",
        "\\end{equation*}\n",
        "\n",
        "\\begin{equation*}\n",
        " M^{-1}\n",
        " = \\frac{1}{\\det(M)}\n",
        "  \\begin{bmatrix}\n",
        "   d & -b \\\\\n",
        "   -c & a\n",
        "   \\end{bmatrix}\n",
        "\\end{equation*}"
      ]
    },
    {
      "cell_type": "code",
      "metadata": {
        "colab": {
          "base_uri": "https://localhost:8080/"
        },
        "id": "6Aai80S_LPEQ",
        "outputId": "d9935811-e4af-4687-94d9-738494b4c205"
      },
      "source": [
        "# Matriz inversa de M\n",
        "la.inv(M)"
      ],
      "execution_count": null,
      "outputs": [
        {
          "output_type": "execute_result",
          "data": {
            "text/plain": [
              "array([[-2. ,  1. ],\n",
              "       [ 1.5, -0.5]])"
            ]
          },
          "metadata": {
            "tags": []
          },
          "execution_count": 33
        }
      ]
    },
    {
      "cell_type": "markdown",
      "metadata": {
        "id": "bhgAoN84LbQh"
      },
      "source": [
        "**Ejercicio 2**. Los polinomios característicos y el Teorema de Cayley-Hamilton.\n",
        "\n",
        "El polinomio característico de una matriz M esta dado en general por la ecuación \n",
        "\\begin{equation}\n",
        "\\det(M - \\lambda I) = 0\n",
        "\\end{equation}\n",
        "Para una matriz cuadrada M (2x2), el polinomio característico se puede escribir como\n",
        "\\begin{equation}\n",
        "P_2 (\\lambda) = \\det{(M)} - \\mathrm{tr}(M) \\, \\lambda + \\lambda^2   \n",
        "\\end{equation}\n",
        "y para una matriz cuadrada M (3x3), el polinomio característico resulta ser\n",
        "\n",
        "\\begin{equation}\n",
        "P_3 (\\lambda) = \\frac{1}{6} \n",
        "[ \\mathrm{tr}^3 (M) + 2 \\, \\mathrm{tr }(M^3) - 3 \\, \\mathrm{tr}(M) \\mathrm{tr}(M^2) ] - \n",
        "\\frac{1}{2} [ \\mathrm{tr}^2 (M) - \\mathrm{tr}(M^2) ] \\lambda + \\mathrm{tr}(M) \\lambda^2 - \\lambda^3\n",
        "\\end{equation}\n",
        "\n",
        "[El Teorema de Cayley-Hamilton](https://en.wikipedia.org/wiki/Cayley–Hamilton_theorem) nos dice que una matriz cuadrada M (2x2), satisface el polinomio característico\n",
        "\\begin{equation}\n",
        "P_2(M) = \\det(M) - \\mathrm{tr}(M) M + M^2 \n",
        "\\end{equation}\n",
        "y en general cualquier matriz cuadrada M (nxn), satisface $P_n(M)$. \n",
        "\n",
        "Demuestre esto para cualquier matriz M (2x2),  ($\\det(M) \\neq 0$).\n"
      ]
    },
    {
      "cell_type": "code",
      "metadata": {
        "colab": {
          "base_uri": "https://localhost:8080/"
        },
        "id": "N85o_aQiLcqh",
        "outputId": "ea2d1988-cb72-4100-ff5b-590b241dbc69"
      },
      "source": [
        "#Vamos a tomar una matriz cuya característica es que tenga determinante diferen-\n",
        "#te de cero\n",
        "\n",
        "M1 = np.array ([[3,4],[5,7]])\n",
        "\n",
        "#Calculamos su determinante\n",
        "\n",
        "DM1 = la.det(M1)\n",
        "\n",
        "#El determinante es igual a uno\n",
        "\n",
        "#Procedemos a realizar las otras operaciones\n",
        "\n",
        "#La transpuesta de la matriz\n",
        "\n",
        "TM1 = M1.T\n",
        "\n",
        "#Potencia de la matriz\n",
        "\n",
        "M1M1 = mpow(M1,2)\n",
        "\n",
        "#Verifiquemos si se cumple el teorema\n",
        "\n",
        "R = DM1 - TM1@M1 + M1M1\n",
        "\n",
        "print(R)\n"
      ],
      "execution_count": null,
      "outputs": [
        {
          "output_type": "stream",
          "text": [
            "[[-4. -6.]\n",
            " [ 4.  5.]]\n"
          ],
          "name": "stdout"
        }
      ]
    },
    {
      "cell_type": "markdown",
      "metadata": {
        "id": "JjrxiOCDS22c"
      },
      "source": [
        "### Resolución de Ecuaciones Lineales. \n",
        "\n",
        "Un [sistema de ecuaciones lineales](https://en.wikipedia.org/wiki/System_of_linear_equations), es una colección de (n+1) ecuaciones de (n+1) variables de la forma:\n",
        "\n",
        "\\begin{align*}\n",
        " a_{0,0} x_0 + a_{0,1} x_1 + \\cdots + a_{0,n} x_n & = b_0 \\\\\n",
        " a_{1,0} x_0 + a_{1,1} x_1 + \\cdots + a_{1,n} x_n & = b_1 \\\\\n",
        "\\vdots &  =  \\vdots \\\\\n",
        " a_{n,0} x_0 + a_{n,1} x_1 + \\cdots + a_{n,n} x_n & = b_n \\\\\n",
        "\\end{align*}\n",
        "\n",
        "El cual se puede escribir de forma matricial\n",
        "\n",
        "\\begin{equation*}\n",
        "A x = b\n",
        "\\end{equation*}\n",
        "\n",
        "donde A es la matriz cuadrada (n+1 x n+1)\n",
        "\n",
        "\\begin{equation*}\n",
        "A = \n",
        "\\begin{bmatrix}\n",
        "a_{0,0} & a_{0,1} & \\cdots & a_{0,n} \\\\\n",
        "a_{1,0} & a_{1,1} & \\cdots & a_{1,n} \\\\\n",
        " \\vdots & \\vdots & \\cdots & \\vdots \\\\\n",
        "a_{n,0} & a_{n,1} & \\cdots & a_{n,n} \\\\\n",
        "\\end{bmatrix}\n",
        "\\end{equation*}\n",
        "\n",
        "El vector $x$ es un vector desconocido de (n+1) dimensiones, y $b$ un vector constante conocido de (n+1) dimensiones.\n",
        "\n",
        "\\begin{equation*}\n",
        "x  =  \\begin{bmatrix} \n",
        "x_0 \\\\\n",
        "x_1 \\\\ \n",
        "\\vdots \\\\\n",
        "x_n \\\\\n",
        "\\end{bmatrix} \n",
        "\\end{equation*},\n",
        "\n",
        "\\begin{equation*} \n",
        "b = \n",
        "\\begin{bmatrix}\n",
        " b_0 \\\\\n",
        " b_1 \\\\\n",
        "\\vdots \\\\\n",
        " b_n \\\\\n",
        " \\end{bmatrix}\n",
        "\\end{equation*}\n",
        "\n",
        "Buscamos la solución \n",
        "\\begin{equation*}\n",
        "x = A^{-1} b \n",
        "\\end{equation*}\n"
      ]
    },
    {
      "cell_type": "markdown",
      "metadata": {
        "id": "1wnG017EYZ82"
      },
      "source": [
        "### Método de Eliminación Gaussiana.\n",
        "\n",
        "El [método de eliminación Gaussiana](https://en.wikipedia.org/wiki/Gaussian_elimination) es un método para resolver un sistema de ecuaciones lineales. \n",
        "Este método involucra 3 tipos de operaciones elementales:\n",
        "\n",
        "\n",
        "*   Intercambio de posición de renglones.\n",
        "*   Multiplicar un renglón por una constante no nula. \n",
        "*   Sumar un múltiplo de un reglon a otro renglón.\n",
        "\n",
        "Usando este conjunto de operaciones es posible convertir una matriz en una matriz triangular superior o matriz en forma escalonada.\n",
        "\n",
        "**Ejemplo**:\n",
        "\n",
        "$L_1$, $L_2$ y $L_3$ denotan los renglones de la matriz.\n",
        "\n"
      ]
    },
    {
      "cell_type": "markdown",
      "metadata": {
        "id": "w2ch54gAYyke"
      },
      "source": [
        "![image.png](data:image/png;base64,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)"
      ]
    },
    {
      "cell_type": "markdown",
      "metadata": {
        "id": "9P6brQBIY0kn"
      },
      "source": [
        "![image.png](data:image/png;base64,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)"
      ]
    },
    {
      "cell_type": "code",
      "metadata": {
        "id": "ac-QKbFBStFy"
      },
      "source": [
        "# Implementación del método de eliminación Gaussiana\n",
        "# Definimos 3 funciones \n",
        "\n",
        "# Intercambio de posición de renglones.\n",
        "def switch_rows(A,i,j):\n",
        "    \"Intercambiar renglones i y j en la matriz A.\"\n",
        "    n = A.shape[0]\n",
        "    E = np.eye(n)\n",
        "    E[i,i] = 0\n",
        "    E[j,j] = 0\n",
        "    E[i,j] = 1\n",
        "    E[j,i] = 1\n",
        "    return E @ A\n",
        "\n",
        "# Multiplicar un renglón por una constante no nula.\n",
        "def scale_row(A,k,i):\n",
        "    \"Multiplicar el renglón i por k en la matriz A.\"\n",
        "    n = A.shape[0]\n",
        "    E = np.eye(n)\n",
        "    E[i,i] = k\n",
        "    return E @ A\n",
        "\n",
        "# Sumar un múltiplo de un reglon a otro renglón.\n",
        "def add_row(A,k,i,j):\n",
        "    \"Sumar k veces el renglón j al renglón i en la matriz A.\"\n",
        "    n = A.shape[0]\n",
        "    E = np.eye(n)\n",
        "    if i == j:\n",
        "        E[i,i] = k + 1\n",
        "    else:\n",
        "        E[i,j] = k\n",
        "    return E @ A"
      ],
      "execution_count": null,
      "outputs": []
    },
    {
      "cell_type": "code",
      "metadata": {
        "colab": {
          "base_uri": "https://localhost:8080/"
        },
        "id": "8wVXHKcIaFY8",
        "outputId": "db729f62-926d-49f3-858d-fceb2ee0b3c5"
      },
      "source": [
        "B = np.array([[1,2], [3,4]])\n",
        "print(B)"
      ],
      "execution_count": null,
      "outputs": [
        {
          "output_type": "stream",
          "text": [
            "[[1 2]\n",
            " [3 4]]\n"
          ],
          "name": "stdout"
        }
      ]
    },
    {
      "cell_type": "code",
      "metadata": {
        "colab": {
          "base_uri": "https://localhost:8080/"
        },
        "id": "PZ_fawioaHCy",
        "outputId": "d0614800-5058-4157-81c7-a12d00f8aa48"
      },
      "source": [
        "print(switch_rows(B,0,1))"
      ],
      "execution_count": null,
      "outputs": [
        {
          "output_type": "stream",
          "text": [
            "[[3. 4.]\n",
            " [1. 2.]]\n"
          ],
          "name": "stdout"
        }
      ]
    },
    {
      "cell_type": "code",
      "metadata": {
        "colab": {
          "base_uri": "https://localhost:8080/"
        },
        "id": "UPp9gvaPaKiQ",
        "outputId": "fddb3ea5-fca3-4858-f016-d95a5ca6e69d"
      },
      "source": [
        "print(scale_row(B, 5, 0))"
      ],
      "execution_count": null,
      "outputs": [
        {
          "output_type": "stream",
          "text": [
            "[[ 5. 10.]\n",
            " [ 3.  4.]]\n"
          ],
          "name": "stdout"
        }
      ]
    },
    {
      "cell_type": "code",
      "metadata": {
        "colab": {
          "base_uri": "https://localhost:8080/"
        },
        "id": "NPo2rVnjaN3v",
        "outputId": "d95c9058-cfd1-4a69-ef20-96b266bb83f1"
      },
      "source": [
        "print(add_row(B, 5, 1, 0))"
      ],
      "execution_count": null,
      "outputs": [
        {
          "output_type": "stream",
          "text": [
            "[[ 1.  2.]\n",
            " [ 8. 14.]]\n"
          ],
          "name": "stdout"
        }
      ]
    },
    {
      "cell_type": "markdown",
      "metadata": {
        "id": "nINdMaucaTTe"
      },
      "source": [
        "### Ejemplos\n",
        "Encontrar la matriz inversa de M.\n",
        "\n",
        "(Trabajaremos con la matriz aumentada: |M|I|)\n"
      ]
    },
    {
      "cell_type": "code",
      "metadata": {
        "colab": {
          "base_uri": "https://localhost:8080/"
        },
        "id": "1zZyruDuaUjk",
        "outputId": "4b76fa2c-42aa-42f8-93f2-3a8314a8f907"
      },
      "source": [
        "M = np.array([[2,1,-1],[-3,-1,2],[-2,1,2]])\n",
        "print(M)\n",
        "print('det(M) = ', la.det(M))"
      ],
      "execution_count": null,
      "outputs": [
        {
          "output_type": "stream",
          "text": [
            "[[ 2  1 -1]\n",
            " [-3 -1  2]\n",
            " [-2  1  2]]\n",
            "det(M) =  -1.0\n"
          ],
          "name": "stdout"
        }
      ]
    },
    {
      "cell_type": "code",
      "metadata": {
        "colab": {
          "base_uri": "https://localhost:8080/"
        },
        "id": "5_IJWitoaZka",
        "outputId": "cc830f58-7a75-47c8-80e2-6bf1f425389d"
      },
      "source": [
        "# Matriz aumentada: Unimos la matriz M con la matriz Identidad \n",
        "A = np.hstack([M,np.eye(3)])\n",
        "print(A)"
      ],
      "execution_count": null,
      "outputs": [
        {
          "output_type": "stream",
          "text": [
            "[[ 2.  1. -1.  1.  0.  0.]\n",
            " [-3. -1.  2.  0.  1.  0.]\n",
            " [-2.  1.  2.  0.  0.  1.]]\n"
          ],
          "name": "stdout"
        }
      ]
    },
    {
      "cell_type": "code",
      "metadata": {
        "colab": {
          "base_uri": "https://localhost:8080/"
        },
        "id": "hjZkiyKsacjU",
        "outputId": "9f0e685f-a9ce-414c-bd9f-489f318a8ae1"
      },
      "source": [
        "# \"Sumar k veces el renglón j al renglón i en la matriz A.\"\n",
        "# add_row(A,k,i,j):\n",
        "# 1) L2 + 3/2 L1 ->  L2; \n",
        "#    L3+L1 -> L3\n",
        "A1_tmp = add_row(A,3/2,1,0)\n",
        "A1 = add_row(A1_tmp,1,2,0)\n",
        "print(A1)"
      ],
      "execution_count": null,
      "outputs": [
        {
          "output_type": "stream",
          "text": [
            "[[ 2.   1.  -1.   1.   0.   0. ]\n",
            " [ 0.   0.5  0.5  1.5  1.   0. ]\n",
            " [ 0.   2.   1.   1.   0.   1. ]]\n"
          ],
          "name": "stdout"
        }
      ]
    },
    {
      "cell_type": "code",
      "metadata": {
        "colab": {
          "base_uri": "https://localhost:8080/"
        },
        "id": "BCEvBNbwaf7D",
        "outputId": "b1c64e5d-7492-411e-a374-520de786044f"
      },
      "source": [
        "# 2) L3 + -4L2 -> L3\n",
        "A2 = add_row(A1, -4,2,1)\n",
        "print(A2)"
      ],
      "execution_count": null,
      "outputs": [
        {
          "output_type": "stream",
          "text": [
            "[[ 2.   1.  -1.   1.   0.   0. ]\n",
            " [ 0.   0.5  0.5  1.5  1.   0. ]\n",
            " [ 0.   0.  -1.  -5.  -4.   1. ]]\n"
          ],
          "name": "stdout"
        }
      ]
    },
    {
      "cell_type": "code",
      "metadata": {
        "colab": {
          "base_uri": "https://localhost:8080/"
        },
        "id": "Ugz6nw1Uai--",
        "outputId": "abd7e804-5478-4e19-fe78-ddb53ceeead0"
      },
      "source": [
        "# 3) L2 + 1/2 L3 -> L2\n",
        "#    L1-L3 -> L1\n",
        "A3_tmp = add_row(A2, 1/2, 1, 2)\n",
        "A3 = add_row(A3_tmp, -1,0,2)\n",
        "print(A3)"
      ],
      "execution_count": null,
      "outputs": [
        {
          "output_type": "stream",
          "text": [
            "[[ 2.   1.   0.   6.   4.  -1. ]\n",
            " [ 0.   0.5  0.  -1.  -1.   0.5]\n",
            " [ 0.   0.  -1.  -5.  -4.   1. ]]\n"
          ],
          "name": "stdout"
        }
      ]
    },
    {
      "cell_type": "code",
      "metadata": {
        "colab": {
          "base_uri": "https://localhost:8080/"
        },
        "id": "12_t7_DKakhA",
        "outputId": "5151bb41-d8c7-48c9-de87-a0cdaef3362d"
      },
      "source": [
        "# 4) 2L2 -> L2\n",
        "#    -L3 -> L3\n",
        "A4_tmp = scale_row(A3,2,1)\n",
        "A4 = scale_row(A4_tmp, -1, 2)\n",
        "print(A4)"
      ],
      "execution_count": null,
      "outputs": [
        {
          "output_type": "stream",
          "text": [
            "[[ 2.  1.  0.  6.  4. -1.]\n",
            " [ 0.  1.  0. -2. -2.  1.]\n",
            " [ 0.  0.  1.  5.  4. -1.]]\n"
          ],
          "name": "stdout"
        }
      ]
    },
    {
      "cell_type": "code",
      "metadata": {
        "colab": {
          "base_uri": "https://localhost:8080/"
        },
        "id": "HQn07G7vanDg",
        "outputId": "cbae108e-7636-4392-df14-2f6a7a6c4c08"
      },
      "source": [
        "# 5) L1 - L2 -> L1\n",
        "#    1/2 L1 -> L1\n",
        "A5_tmp = add_row(A4,-1,0,1)\n",
        "A5 = scale_row(A5_tmp,1/2,0)\n",
        "print(A5)"
      ],
      "execution_count": null,
      "outputs": [
        {
          "output_type": "stream",
          "text": [
            "[[ 1.  0.  0.  4.  3. -1.]\n",
            " [ 0.  1.  0. -2. -2.  1.]\n",
            " [ 0.  0.  1.  5.  4. -1.]]\n"
          ],
          "name": "stdout"
        }
      ]
    },
    {
      "cell_type": "code",
      "metadata": {
        "colab": {
          "base_uri": "https://localhost:8080/"
        },
        "id": "NZ9CeFXeaqrR",
        "outputId": "8bb18ab2-1a56-4a4b-c892-3b41fb4f0595"
      },
      "source": [
        "# Hemos obtenido la inversa\n",
        "M_inv = A5[:,3:]\n",
        "print(M_inv)"
      ],
      "execution_count": null,
      "outputs": [
        {
          "output_type": "stream",
          "text": [
            "[[ 4.  3. -1.]\n",
            " [-2. -2.  1.]\n",
            " [ 5.  4. -1.]]\n"
          ],
          "name": "stdout"
        }
      ]
    },
    {
      "cell_type": "code",
      "metadata": {
        "colab": {
          "base_uri": "https://localhost:8080/"
        },
        "id": "DXiYzZzsasnO",
        "outputId": "30d549a2-5e38-416c-aff7-c6f11258387c"
      },
      "source": [
        "# El producto de M_inv @ M = I \n",
        "result = M_inv @ M\n",
        "print(result)"
      ],
      "execution_count": null,
      "outputs": [
        {
          "output_type": "stream",
          "text": [
            "[[1. 0. 0.]\n",
            " [0. 1. 0.]\n",
            " [0. 0. 1.]]\n"
          ],
          "name": "stdout"
        }
      ]
    },
    {
      "cell_type": "code",
      "metadata": {
        "colab": {
          "base_uri": "https://localhost:8080/"
        },
        "id": "pj_McIqgavUm",
        "outputId": "a03a7b1e-239f-401c-828c-f942170e29d5"
      },
      "source": [
        "# Checamos la inversa de M con la función 'la.inv(M)'\n",
        "la.inv(M)"
      ],
      "execution_count": null,
      "outputs": [
        {
          "output_type": "execute_result",
          "data": {
            "text/plain": [
              "array([[ 4.,  3., -1.],\n",
              "       [-2., -2.,  1.],\n",
              "       [ 5.,  4., -1.]])"
            ]
          },
          "metadata": {
            "tags": []
          },
          "execution_count": 54
        }
      ]
    },
    {
      "cell_type": "markdown",
      "metadata": {
        "id": "4f5huJ35a4kZ"
      },
      "source": [
        "Ejemplo: Resolviendo la ecuación Mx=b\n",
        "\n",
        "en este caso b esta dado por:\n",
        "\n",
        "\\begin{equation*}\n",
        "b = \n",
        "\\begin{bmatrix}\n",
        "8 \\\\\n",
        "-11 \\\\\n",
        "-3 \\\\\n",
        "\\end{bmatrix}\n",
        "\\end{equation*}\n",
        "\n",
        "La solución es $x = M^{-1} M x = M^{-1} b$"
      ]
    },
    {
      "cell_type": "code",
      "metadata": {
        "colab": {
          "base_uri": "https://localhost:8080/"
        },
        "id": "d-XQhCcNa54F",
        "outputId": "be69a93c-153d-4366-8c69-498edd769683"
      },
      "source": [
        "# definimos b. Recordemos que tenemos que usar la función .reshape()\n",
        "b = np.array([8,-11,-3]).reshape(3,1)\n",
        "print(b)"
      ],
      "execution_count": null,
      "outputs": [
        {
          "output_type": "stream",
          "text": [
            "[[  8]\n",
            " [-11]\n",
            " [ -3]]\n"
          ],
          "name": "stdout"
        }
      ]
    },
    {
      "cell_type": "code",
      "metadata": {
        "colab": {
          "base_uri": "https://localhost:8080/"
        },
        "id": "6FDCfzpza9l3",
        "outputId": "ee26e136-6a42-4d25-abd0-b023e6918427"
      },
      "source": [
        "# La solución es:\n",
        "x = M_inv @ b \n",
        "print(x)"
      ],
      "execution_count": null,
      "outputs": [
        {
          "output_type": "stream",
          "text": [
            "[[ 2.]\n",
            " [ 3.]\n",
            " [-1.]]\n"
          ],
          "name": "stdout"
        }
      ]
    },
    {
      "cell_type": "markdown",
      "metadata": {
        "id": "6l-QT05ibEo-"
      },
      "source": [
        "### Función scipy.linalg.solve()\n",
        "\n",
        "Podemos usar la función solve() de scipy.linalg\n"
      ]
    },
    {
      "cell_type": "code",
      "metadata": {
        "colab": {
          "base_uri": "https://localhost:8080/"
        },
        "id": "3NTATYg4bFpu",
        "outputId": "8c05b018-bfe6-480d-e52f-2bd7367b73a0"
      },
      "source": [
        "# Resolviendo el sistema de ecuaciones usando scipy.linalg.solve\n",
        "x_sol = la.solve(M, b)\n",
        "print(x_sol)"
      ],
      "execution_count": null,
      "outputs": [
        {
          "output_type": "stream",
          "text": [
            "[[ 2.]\n",
            " [ 3.]\n",
            " [-1.]]\n"
          ],
          "name": "stdout"
        }
      ]
    },
    {
      "cell_type": "markdown",
      "metadata": {
        "id": "jPP904xXbLWY"
      },
      "source": [
        "**Ejercicio 3:**\n",
        "\n",
        "Resuelva el sistema de ecuaciones.\n",
        "\n",
        "\\begin{eqnarray*}\n",
        "x - 3 y + z & = & 1 \\\\ \\nonumber\n",
        "3 x - 4y + z & = & 5 \\\\ \\nonumber\n",
        "2 y - z & = & 0 \\\\ \\nonumber\n",
        "\\end{eqnarray*}\n",
        "\n",
        "de dos formas, utilizando el Método de Eliminación Gaussiana y la utilzando la función scipy.linalg.solve()"
      ]
    },
    {
      "cell_type": "code",
      "metadata": {
        "id": "GdszhEFTbZUR"
      },
      "source": [
        "# Implementación del método de eliminación Gaussiana\n",
        "# Definimos 3 funciones \n",
        "\n",
        "# Intercambio de posición de renglones.\n",
        "def switch_rows(A,i,j):\n",
        "    \"Intercambiar renglones i y j en la matriz A.\"\n",
        "    n = A.shape[0]\n",
        "    E = np.eye(n)\n",
        "    E[i,i] = 0\n",
        "    E[j,j] = 0\n",
        "    E[i,j] = 1\n",
        "    E[j,i] = 1\n",
        "    return E @ A\n",
        "\n",
        "# Multiplicar un renglón por una constante no nula.\n",
        "def scale_row(A,k,i):\n",
        "    \"Multiplicar el renglón i por k en la matriz A.\"\n",
        "    n = A.shape[0]\n",
        "    E = np.eye(n)\n",
        "    E[i,i] = k\n",
        "    return E @ A\n",
        "\n",
        "# Sumar un múltiplo de un reglon a otro renglón.\n",
        "def add_row(A,k,i,j):\n",
        "    \"Sumar k veces el renglón j al renglón i en la matriz A.\"\n",
        "    n = A.shape[0]\n",
        "    E = np.eye(n)\n",
        "    if i == j:\n",
        "        E[i,i] = k + 1\n",
        "    else:\n",
        "        E[i,j] = k\n",
        "    return E @ A\n"
      ],
      "execution_count": null,
      "outputs": []
    },
    {
      "cell_type": "code",
      "metadata": {
        "colab": {
          "base_uri": "https://localhost:8080/"
        },
        "id": "teOKJb_P3m4p",
        "outputId": "bbe5a715-6cc0-491e-cc55-f0bf2e86c7dc"
      },
      "source": [
        "#Definimos nuestra matriz M:\n",
        "M = np.array([[1,-3,1],[3,-4,1],[0,2,-1]])\n",
        "print(\"Matriz M = \")\n",
        "print(M)\n"
      ],
      "execution_count": null,
      "outputs": [
        {
          "output_type": "stream",
          "text": [
            "Matriz M = \n",
            "[[ 1 -3  1]\n",
            " [ 3 -4  1]\n",
            " [ 0  2 -1]]\n"
          ],
          "name": "stdout"
        }
      ]
    },
    {
      "cell_type": "code",
      "metadata": {
        "colab": {
          "base_uri": "https://localhost:8080/"
        },
        "id": "Mp5HIbo434AW",
        "outputId": "31ce5519-66ef-42e8-e268-dfe4fff2bf15"
      },
      "source": [
        "A = np.hstack([M,np.eye(3)])\n",
        "print(A)"
      ],
      "execution_count": null,
      "outputs": [
        {
          "output_type": "stream",
          "text": [
            "[[ 1. -3.  1.  1.  0.  0.]\n",
            " [ 3. -4.  1.  0.  1.  0.]\n",
            " [ 0.  2. -1.  0.  0.  1.]]\n"
          ],
          "name": "stdout"
        }
      ]
    },
    {
      "cell_type": "code",
      "metadata": {
        "colab": {
          "base_uri": "https://localhost:8080/"
        },
        "id": "omosvXSN38FP",
        "outputId": "46dbe843-e564-4bb0-8277-1e08528938c2"
      },
      "source": [
        "A1 = scale_row(A,1/3,1)\n",
        "A2 = add_row(A1,-1,1,0)\n",
        "print(A2)\n"
      ],
      "execution_count": null,
      "outputs": [
        {
          "output_type": "stream",
          "text": [
            "[[ 1.         -3.          1.          1.          0.          0.        ]\n",
            " [ 0.          1.66666667 -0.66666667 -1.          0.33333333  0.        ]\n",
            " [ 0.          2.         -1.          0.          0.          1.        ]]\n"
          ],
          "name": "stdout"
        }
      ]
    },
    {
      "cell_type": "code",
      "metadata": {
        "colab": {
          "base_uri": "https://localhost:8080/"
        },
        "id": "ZcByN9eN6Fgq",
        "outputId": "9eb42c59-f5cc-429c-d8bc-cf3d084d2f2c"
      },
      "source": [
        "A3 = scale_row(A2,1/2,2)\n",
        "A4= add_row(A3,(-3/5.),2,1)\n",
        "print(A4)"
      ],
      "execution_count": null,
      "outputs": [
        {
          "output_type": "stream",
          "text": [
            "[[ 1.         -3.          1.          1.          0.          0.        ]\n",
            " [ 0.          1.66666667 -0.66666667 -1.          0.33333333  0.        ]\n",
            " [ 0.          0.         -0.1         0.6        -0.2         0.5       ]]\n"
          ],
          "name": "stdout"
        }
      ]
    },
    {
      "cell_type": "code",
      "metadata": {
        "colab": {
          "base_uri": "https://localhost:8080/"
        },
        "id": "xTT4X-55-VV6",
        "outputId": "9612f694-6358-44dc-c9ed-3a475e60da2d"
      },
      "source": [
        "A5 = add_row(A4,10.0,0,2)\n",
        "A6 = add_row(A5,(-20/3),1,2)\n",
        "A7 = add_row(A6,9/5,0,1)\n",
        "print(A7)"
      ],
      "execution_count": null,
      "outputs": [
        {
          "output_type": "stream",
          "text": [
            "[[ 1.00000000e+00  2.07241631e-16 -1.24344979e-16 -2.00000000e+00\n",
            "   1.00000000e+00 -1.00000000e+00]\n",
            " [ 0.00000000e+00  1.66666667e+00 -1.92438658e-16 -5.00000000e+00\n",
            "   1.66666667e+00 -3.33333333e+00]\n",
            " [ 0.00000000e+00  0.00000000e+00 -1.00000000e-01  6.00000000e-01\n",
            "  -2.00000000e-01  5.00000000e-01]]\n"
          ],
          "name": "stdout"
        }
      ]
    },
    {
      "cell_type": "code",
      "metadata": {
        "colab": {
          "base_uri": "https://localhost:8080/"
        },
        "id": "5MCZA3mMBhzL",
        "outputId": "043f7ac7-bb4a-44d3-f107-9bf0dd1545ad"
      },
      "source": [
        "A8 = scale_row(A7,3/5,1)\n",
        "A9 = scale_row(A8,-10,2)\n",
        "print(A9)"
      ],
      "execution_count": null,
      "outputs": [
        {
          "output_type": "stream",
          "text": [
            "[[ 1.00000000e+00  2.07241631e-16 -1.24344979e-16 -2.00000000e+00\n",
            "   1.00000000e+00 -1.00000000e+00]\n",
            " [ 0.00000000e+00  1.00000000e+00 -1.15463195e-16 -3.00000000e+00\n",
            "   1.00000000e+00 -2.00000000e+00]\n",
            " [ 0.00000000e+00  0.00000000e+00  1.00000000e+00 -6.00000000e+00\n",
            "   2.00000000e+00 -5.00000000e+00]]\n"
          ],
          "name": "stdout"
        }
      ]
    },
    {
      "cell_type": "code",
      "metadata": {
        "colab": {
          "base_uri": "https://localhost:8080/"
        },
        "id": "HGL6qwHRBkpW",
        "outputId": "1b6005e3-9c4f-4ac4-d836-45984d11bce6"
      },
      "source": [
        "M_inv = A9[:,3:]\n",
        "print(M_inv)"
      ],
      "execution_count": null,
      "outputs": [
        {
          "output_type": "stream",
          "text": [
            "[[-2.  1. -1.]\n",
            " [-3.  1. -2.]\n",
            " [-6.  2. -5.]]\n"
          ],
          "name": "stdout"
        }
      ]
    },
    {
      "cell_type": "code",
      "metadata": {
        "colab": {
          "base_uri": "https://localhost:8080/"
        },
        "id": "oGT_dnX-BpnI",
        "outputId": "5817fcd0-b893-44f6-c14c-7b563e81833b"
      },
      "source": [
        "result = M_inv @ M\n",
        "print(result)"
      ],
      "execution_count": null,
      "outputs": [
        {
          "output_type": "stream",
          "text": [
            "[[ 1.00000000e+00 -8.88178420e-16  4.44089210e-16]\n",
            " [-3.33066907e-16  1.00000000e+00  0.00000000e+00]\n",
            " [-6.66133815e-16  0.00000000e+00  1.00000000e+00]]\n"
          ],
          "name": "stdout"
        }
      ]
    },
    {
      "cell_type": "code",
      "metadata": {
        "colab": {
          "base_uri": "https://localhost:8080/"
        },
        "id": "VPOeMr-RBrm1",
        "outputId": "8d5e70d4-e2ce-476a-ecc7-3b037a2ec299"
      },
      "source": [
        "la.inv(M)"
      ],
      "execution_count": null,
      "outputs": [
        {
          "output_type": "execute_result",
          "data": {
            "text/plain": [
              "array([[-2.,  1., -1.],\n",
              "       [-3.,  1., -2.],\n",
              "       [-6.,  2., -5.]])"
            ]
          },
          "metadata": {
            "tags": []
          },
          "execution_count": 58
        }
      ]
    },
    {
      "cell_type": "code",
      "metadata": {
        "colab": {
          "base_uri": "https://localhost:8080/"
        },
        "id": "BbaPBDUNBt-n",
        "outputId": "31f91551-44d6-4fab-8325-3966c75095f9"
      },
      "source": [
        "b = np.array([1,5,0]).reshape(3,1)\n",
        "print(b)"
      ],
      "execution_count": null,
      "outputs": [
        {
          "output_type": "stream",
          "text": [
            "[[1]\n",
            " [5]\n",
            " [0]]\n"
          ],
          "name": "stdout"
        }
      ]
    },
    {
      "cell_type": "code",
      "metadata": {
        "colab": {
          "base_uri": "https://localhost:8080/"
        },
        "id": "yBAk5zknBwCx",
        "outputId": "6a9a6399-995b-4d2d-9663-3104dc645e7d"
      },
      "source": [
        "x = M_inv @ b \n",
        "print(x)"
      ],
      "execution_count": null,
      "outputs": [
        {
          "output_type": "stream",
          "text": [
            "[[3.]\n",
            " [2.]\n",
            " [4.]]\n"
          ],
          "name": "stdout"
        }
      ]
    },
    {
      "cell_type": "code",
      "metadata": {
        "colab": {
          "base_uri": "https://localhost:8080/"
        },
        "id": "EX2DnoqiBzU7",
        "outputId": "3168089b-2690-43fe-d2a7-7dda956b5bd2"
      },
      "source": [
        "# Resolviendo el sistema de ecuaciones usando scipy.linalg.solve\n",
        "x_sol = la.solve(M, b)\n",
        "print(x_sol)"
      ],
      "execution_count": null,
      "outputs": [
        {
          "output_type": "stream",
          "text": [
            "[[3.]\n",
            " [2.]\n",
            " [4.]]\n"
          ],
          "name": "stdout"
        }
      ]
    },
    {
      "cell_type": "markdown",
      "metadata": {
        "id": "lSmsXb_HB5Sh"
      },
      "source": [
        "## Eigenvalores y eigenvectores.\n",
        "\n",
        "En Álgebra Lineal, un eigenvector $\\vec{x}$ (o vector propio), es un vector que cuando se le aplica una transformación lineal $A$, a lo más cambia en escala $\\lambda$, pero no en dirección. A $\\lambda$ se le conoce como eigenvalor (o valor propio). \n",
        "\\begin{equation}\n",
        "A \\vec{x} = \\lambda \\vec{x} \n",
        "\\end{equation}\n",
        "La transformación lineal $A$ es representada por una matriz cuadrada $n \\times n$ en un espacio vectorial de $n$ dimensiones, el vector $\\vec{x}$ es un vector de $n \\times 1$ dimensiones."
      ]
    },
    {
      "cell_type": "markdown",
      "metadata": {
        "id": "1eVPhljsB9Fl"
      },
      "source": [
        "![image.png](data:image/png;base64,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)"
      ]
    },
    {
      "cell_type": "markdown",
      "metadata": {
        "id": "HDL01NrhCEo1"
      },
      "source": [
        "La ecuación anterior puede escribir como \n",
        "\\begin{equation*}\n",
        "(A - \\lambda I)\\vec{x} = \\vec{0}\n",
        "\\end{equation*}\n",
        "Donde $I$ es la matriz identidad $n \\times n$, y $\\vec{0}$ es la matriz cero de $n \\times 1$ dimensiones, al igual que $\\vec{x}$.\n",
        "\n",
        "Esta última ecuación que $(A - \\lambda I)\\vec{x} = 0$, tiene solución para cualquier $\\vec{x}$, sí y sólo si $det(A - \\lambda I) = 0$.\n",
        "\n",
        "Los eigenvalores $\\lambda$ deben entonces satisfacer la ecuación o también llamado polinomio característico\n",
        "\\begin{equation*}\n",
        "|A - \\lambda I| = (\\lambda_1 - \\lambda) (\\lambda_2 - \\lambda) \\cdots (\\lambda_n - \\lambda) \n",
        "\\end{equation*}\n",
        "donde $\\lambda_1, \\lambda_2, \\ldots , \\lambda_n$ son los eigenvalores de A y raíces del polinomio característico. Las raíces del polinomio pueden ser reales o complejas (pueden ser distintas o haber multiplicidad en ellas). \n",
        "\n",
        "### scipy.linalg.eig\n",
        "\n",
        "La biblioteca scipy.linalg.eig regresa los eigenvectores y eigenvalores de una matriz cuadrada A."
      ]
    },
    {
      "cell_type": "code",
      "metadata": {
        "colab": {
          "base_uri": "https://localhost:8080/"
        },
        "id": "y14Pxcx9CEC0",
        "outputId": "bcc1ecce-1e07-4868-9f08-39e69b1ae832"
      },
      "source": [
        "# Ejemplo una matriz 2x2\n",
        "A = np.array([[2,1],[1,2]])\n",
        "print(A)"
      ],
      "execution_count": null,
      "outputs": [
        {
          "output_type": "stream",
          "text": [
            "[[2 1]\n",
            " [1 2]]\n"
          ],
          "name": "stdout"
        }
      ]
    },
    {
      "cell_type": "markdown",
      "metadata": {
        "id": "B3q6Jnk6CTHZ"
      },
      "source": [
        "Para la matriz A\n",
        "\n",
        "\\begin{equation*}\n",
        "A = \n",
        "\\begin{bmatrix}\n",
        "2 & 1 \\\\\n",
        "1 & 2 \\\\\n",
        "\\end{bmatrix}\n",
        "\\end{equation*}\n",
        "\n",
        "\\begin{equation*}\n",
        " \\det(A - \\lambda I) = \n",
        " \\begin{bmatrix}\n",
        "2 - \\lambda & 1 \\\\\n",
        "1 & 2 - \\lambda \\\\\n",
        " \\end{bmatrix} = (2  - \\lambda)^2 - 1 =  3 - 4 \\lambda + \\lambda^2 = 0 \n",
        "\\end{equation*}\n",
        "Cuyas soluciones son $\\lambda_1=3$ y $\\lambda_2=1$.\n",
        "\n",
        "Para $\\lambda_1=3$, la ecuación característica es\n",
        "\\begin{equation*}\n",
        "(A - 3I)v_1 = \\begin{bmatrix}\n",
        "-1 & 1 \\\\\n",
        "1 & -1 \\\\\n",
        "\\end{bmatrix} \\begin{bmatrix}\n",
        "v_{11} \\\\\n",
        "v_{12} \\\\\n",
        "\\end{bmatrix} = \n",
        "\\begin{bmatrix}\n",
        "0 \\\\\n",
        "0 \\\\\n",
        "\\end{bmatrix}\n",
        "\\end{equation*}\n",
        "de donde vemos que\n",
        "\\begin{equation*}\n",
        "-v_{11} + v_{12} = 0 \\qquad \\mathrm{ó} \\qquad v_{11} = v_{12}\n",
        "\\end{equation*}\n",
        "\n",
        "Entonces el eigenvector $v_1$ puede ser cualquier vector múltiplo de \n",
        "\n",
        "\\begin{equation*}\n",
        "v_1 = c_1 \n",
        "\\begin{bmatrix}\n",
        "1 \\\\\n",
        "1 \\\\\n",
        "\\end{bmatrix}\n",
        "\\end{equation*}\n",
        "\n",
        "Para $\\lambda_2=1$, la ecuación característica es\n",
        "\\begin{equation*}\n",
        "(A - I)v_2 = \\begin{bmatrix}\n",
        "1 & 1 \\\\\n",
        "1 & 1 \\\\\n",
        "\\end{bmatrix} \\begin{bmatrix}\n",
        "v_{21} \\\\\n",
        "v_{22} \\\\\n",
        "\\end{bmatrix} = \n",
        "\\begin{bmatrix}\n",
        "0 \\\\\n",
        "0 \\\\\n",
        "\\end{bmatrix}\n",
        "\\end{equation*}\n",
        "de donde vemos que\n",
        "\\begin{equation*}\n",
        "v_{21} + v_{22} = 0 \\qquad \\mathrm{ó} \\qquad v_{21} = - v_{22}\n",
        "\\end{equation*}\n",
        "\n",
        "Entonces el eigenvector $v_2$ puede ser cualquier vector múltiplo de  \n",
        "\n",
        "\\begin{equation*}\n",
        "v_2 = c_2  \n",
        "\\begin{bmatrix}\n",
        "1 \\\\\n",
        "- 1 \\\\\n",
        "\\end{bmatrix}\n",
        "\\end{equation*}\n",
        "\n",
        "\n",
        "\n",
        "(Puedes apoyarte descargando [wxmaxima](https://wxmaxima-developers.github.io/wxmaxima/download.html) o usar la calculadora en línea [Wolfram Alpha](https://www.wolframalpha.com))"
      ]
    },
    {
      "cell_type": "code",
      "metadata": {
        "colab": {
          "base_uri": "https://localhost:8080/"
        },
        "id": "5JNuyYkwCSgb",
        "outputId": "dfeb031c-e0ad-4fa6-fbe8-b27476d12ba3"
      },
      "source": [
        "# Aplicamos la biblioteca scipy.linalg.eig()\n",
        "eigvals, eigvecs = la.eig(A)\n",
        "print('Eigenvalores:', eigvals)\n",
        "print('Eigenvectores:', eigvecs)"
      ],
      "execution_count": null,
      "outputs": [
        {
          "output_type": "stream",
          "text": [
            "Eigenvalores: [3.+0.j 1.+0.j]\n",
            "Eigenvectores: [[ 0.70710678 -0.70710678]\n",
            " [ 0.70710678  0.70710678]]\n"
          ],
          "name": "stdout"
        }
      ]
    },
    {
      "cell_type": "markdown",
      "metadata": {
        "id": "QUGtnM8CCu1U"
      },
      "source": [
        "Entonces los eigenvalores son $\\lambda_1 = 3$ y $\\lambda_2=1$ (ambos reales)\n",
        "y los eigenvectores correspondientes:\n",
        "$x_1=\\sqrt(2)/2 \\ v_1$ y $x_2=\\sqrt(2)/2 \\ v_2$"
      ]
    },
    {
      "cell_type": "code",
      "metadata": {
        "colab": {
          "base_uri": "https://localhost:8080/"
        },
        "id": "LGLPyPZiCyoi",
        "outputId": "66e5054f-678f-43e2-c0d4-b92576e1220c"
      },
      "source": [
        "# Los eigenvectores son linealmente independientes\n",
        "v1 = eigvecs[:,0]\n",
        "v2 = eigvecs[:,1]\n",
        "print('v1=',v1)\n",
        "print('v2=',v2)\n"
      ],
      "execution_count": null,
      "outputs": [
        {
          "output_type": "stream",
          "text": [
            "v1= [0.70710678 0.70710678]\n",
            "v2= [-0.70710678  0.70710678]\n"
          ],
          "name": "stdout"
        }
      ]
    },
    {
      "cell_type": "code",
      "metadata": {
        "colab": {
          "base_uri": "https://localhost:8080/"
        },
        "id": "i4f_Wny9C15h",
        "outputId": "2cc3ab5c-e76f-4e56-f42b-c6356fb616f6"
      },
      "source": [
        "# Calculamos el producto matricial y el producto punto de 2 vectores (linealmente independientes)\n",
        "print('Producto matricial:',v1@v2)\n",
        "print('Producto escalar:', np.dot(v1,v2.T))"
      ],
      "execution_count": null,
      "outputs": [
        {
          "output_type": "stream",
          "text": [
            "Producto matricial: 2.2371143170757382e-17\n",
            "Producto escalar: 2.2371143170757382e-17\n"
          ],
          "name": "stdout"
        }
      ]
    },
    {
      "cell_type": "markdown",
      "metadata": {
        "id": "7Sc7UdH7C5qN"
      },
      "source": [
        "Un resultado interesante del Álgebra Lineal postula que una matriz cuadrada M (nxn) es diagonalizable si y sólo si tiene n eigenvalores distintos o eigenvectores independientes. \n",
        "\n",
        "Se puede escribir M como el producto\n",
        "\\begin{equation*}\n",
        "M = P D P^{-1}\n",
        "\\end{equation*}\n",
        "donde $D$ es la matriz diagonal de los eigenvalores y $P$ es la matriz formada por los eigenvectores. "
      ]
    },
    {
      "cell_type": "code",
      "metadata": {
        "colab": {
          "base_uri": "https://localhost:8080/"
        },
        "id": "Qe9EDyyAC9Fd",
        "outputId": "6bf6669d-790f-4b4c-cf88-fe1ae2ff1062"
      },
      "source": [
        "# Formamos la matriz de los eigenvectores\n",
        "P = np.array([[1,1],[1,-1]])\n",
        "print(P)"
      ],
      "execution_count": null,
      "outputs": [
        {
          "output_type": "stream",
          "text": [
            "[[ 1  1]\n",
            " [ 1 -1]]\n"
          ],
          "name": "stdout"
        }
      ]
    },
    {
      "cell_type": "code",
      "metadata": {
        "colab": {
          "base_uri": "https://localhost:8080/"
        },
        "id": "T_GZszchDABe",
        "outputId": "a46724ef-dcef-4132-cbda-8c1b5c1c3d1a"
      },
      "source": [
        "# La matriz de los eigenvalores en la diagonal la definimos con\n",
        "D = np.diag((3,1))\n",
        "print(D)"
      ],
      "execution_count": null,
      "outputs": [
        {
          "output_type": "stream",
          "text": [
            "[[3 0]\n",
            " [0 1]]\n"
          ],
          "name": "stdout"
        }
      ]
    },
    {
      "cell_type": "code",
      "metadata": {
        "colab": {
          "base_uri": "https://localhost:8080/"
        },
        "id": "kfzpcJBYDCPW",
        "outputId": "be1df8af-f8e3-4cc8-9999-8d2d6192aca2"
      },
      "source": [
        "# Calculamos M = P D P^{-1}\n",
        "# Veremos que es la matriz A\n",
        "\n",
        "M = P @ D @ la.inv(P)\n",
        "print(M)"
      ],
      "execution_count": null,
      "outputs": [
        {
          "output_type": "stream",
          "text": [
            "[[2. 1.]\n",
            " [1. 2.]]\n"
          ],
          "name": "stdout"
        }
      ]
    },
    {
      "cell_type": "markdown",
      "metadata": {
        "id": "S7WISyk1DSCj"
      },
      "source": [
        "### Potencias de una matriz $M^k$\n",
        "\n",
        "Si M es una matriz cuadrada, $M^k = M \\cdot M \\cdot M \\cdots M$ (k-veces) puede resultar muy intenso computacionalmente.\n",
        "\n",
        "Si M es diagonalizable, entonces\n",
        "\\begin{equation*}\n",
        "M^k = P D P^{-1} \\cdot P D P^{-1} \\cdot P D P^{-1} \\cdots P D P^{-1} = P D^k P^{-1}\n",
        "\\end{equation*}\n",
        "\n",
        "Veamos un ejemplo de calcular la potencia $k=25$ de $M$, $M^{25}$ y mediremos el tiempo de cálculo."
      ]
    },
    {
      "cell_type": "code",
      "metadata": {
        "colab": {
          "base_uri": "https://localhost:8080/"
        },
        "id": "kCvvkpxrDXdA",
        "outputId": "0e8f9b76-058d-4337-fb6e-aba09f9e466b"
      },
      "source": [
        "# Calculamos la potencia k=25\n",
        "k=25\n",
        "P_inv = la.inv(P)\n",
        "\n",
        "print('La matriz de eigenvectores:',P)\n",
        "print('La matriz inversa de P: ', P_inv)"
      ],
      "execution_count": null,
      "outputs": [
        {
          "output_type": "stream",
          "text": [
            "La matriz de eigenvectores: [[ 1  1]\n",
            " [ 1 -1]]\n",
            "La matriz inversa de P:  [[ 0.5  0.5]\n",
            " [ 0.5 -0.5]]\n"
          ],
          "name": "stdout"
        }
      ]
    },
    {
      "cell_type": "code",
      "metadata": {
        "colab": {
          "base_uri": "https://localhost:8080/"
        },
        "id": "24Lj9ZxDDdap",
        "outputId": "83c5df5f-a12b-4948-f330-05dcd4ee2442"
      },
      "source": [
        "# La multilicación de M consigo misma k=25 veces\n",
        "# Calculamos el tiempo de cómputo.\n",
        "%%timeit\n",
        "result = M.copy()\n",
        "for _ in range(1,k):\n",
        "    result = result @ M"
      ],
      "execution_count": null,
      "outputs": [
        {
          "output_type": "stream",
          "text": [
            "The slowest run took 17.64 times longer than the fastest. This could mean that an intermediate result is being cached.\n",
            "10000 loops, best of 5: 32.9 µs per loop\n"
          ],
          "name": "stdout"
        }
      ]
    },
    {
      "cell_type": "code",
      "metadata": {
        "colab": {
          "base_uri": "https://localhost:8080/"
        },
        "id": "2NxmWxEZDiQO",
        "outputId": "85da6131-498c-4e06-8626-1e85c5c2f090"
      },
      "source": [
        "# Ahora calculamos usando la propiedad de diagonalización de M\n",
        "# Calculamos el tiempo de la operación\n",
        "%%timeit\n",
        "P @ D**k @ P_inv"
      ],
      "execution_count": null,
      "outputs": [
        {
          "output_type": "stream",
          "text": [
            "The slowest run took 19.07 times longer than the fastest. This could mean that an intermediate result is being cached.\n",
            "100000 loops, best of 5: 4.45 µs per loop\n"
          ],
          "name": "stdout"
        }
      ]
    },
    {
      "cell_type": "markdown",
      "metadata": {
        "id": "dENLTpquDtLZ"
      },
      "source": [
        "**Ejercicio 4:** \n",
        "\n",
        "Dadas las siguientes matrices $B_1, B_2$ y $B_3$\n",
        "\n",
        "(Ejemplos del artículo de Wikipedia sobre [Eigenvalores y Eigenvectores](https://en.wikipedia.org/wiki/Eigenvalues_and_eigenvectors#Matrix_examples)) \n",
        "\n",
        "\n",
        "\\begin{equation*}\n",
        "B_1 = \\begin{bmatrix}\n",
        "2 & 0 & 0 \\\\\n",
        "0 & 3 & 4 \\\\\n",
        "0 & 4 & 9 \\\\\n",
        "\\end{bmatrix}\n",
        "\\end{equation*}\n",
        "\n",
        "\\begin{equation*}\n",
        "B_2 = \\begin{bmatrix}\n",
        "0 & 1 & 0 \\\\\n",
        "0 & 0 & 1 \\\\\n",
        "1 & 0 & 0 \\\\\n",
        "\\end{bmatrix}\n",
        "\\end{equation*}\n",
        "\n",
        "\\begin{equation*}\n",
        "B_3 = \\begin{bmatrix}\n",
        "2 & 0 & 0 & 0\\\\\n",
        "1 & 2 & 0 & 0 \\\\\n",
        "0 & 1 & 3 & 0 \\\\\n",
        "0 & 0 & 1 & 3 \\\\\n",
        "\\end{bmatrix}\n",
        "\\end{equation*}\n",
        "\n",
        "Encuentra los eigenvalores y eigenvectores de cada matriz utilizando la función de *scipy.linalg.eig()*, y contrasta tus resultados en cada caso con los que se desarrollan en los ejemplos de la Wikipedia. "
      ]
    },
    {
      "cell_type": "code",
      "metadata": {
        "colab": {
          "base_uri": "https://localhost:8080/"
        },
        "id": "GFmI-zP_EI0S",
        "outputId": "10a1db6e-e0db-4431-9369-299b7f9eed8e"
      },
      "source": [
        "#Definimos nuestra matriz B1:\n",
        "B1 = np.array([[2,0,0],[0,3,4],[0,4,9]])\n",
        "\n",
        "\n",
        "#Definimos nuestra amtriz B2:\n",
        "B2 = np.array([[0,1,0],[0,0,1],[1,0,0]])\n",
        "\n",
        "\n",
        "#Definimos nuestra amtriz B3:\n",
        "B3 = np.array([[2,0,0,0],[1,2,0,0],[0,1,3,0],[0,0,1,3]])\n",
        "\n",
        "print(\"Matriz B1 = \")\n",
        "print(B1)\n",
        "\n",
        "print(\"Matriz B2 = \")\n",
        "print(B2)\n",
        "\n",
        "print(\"Matriz B3 = \")\n",
        "print(B3)"
      ],
      "execution_count": null,
      "outputs": [
        {
          "output_type": "stream",
          "text": [
            "Matriz B1 = \n",
            "[[2 0 0]\n",
            " [0 3 4]\n",
            " [0 4 9]]\n",
            "Matriz B2 = \n",
            "[[0 1 0]\n",
            " [0 0 1]\n",
            " [1 0 0]]\n",
            "Matriz B3 = \n",
            "[[2 0 0 0]\n",
            " [1 2 0 0]\n",
            " [0 1 3 0]\n",
            " [0 0 1 3]]\n"
          ],
          "name": "stdout"
        }
      ]
    },
    {
      "cell_type": "code",
      "metadata": {
        "colab": {
          "base_uri": "https://localhost:8080/"
        },
        "id": "X8k-D3LLEMBp",
        "outputId": "f9200881-df5b-4232-b02e-41c246c6ca11"
      },
      "source": [
        "# Aplicamos la biblioteca scipy.linalg.eig()\n",
        "eigvals, eigvecs = la.eig(B1)\n",
        "print( ' Para el caso de B1:' )\n",
        "print('Eigenvalores:', eigvals)\n",
        "print('Eigenvectores:', eigvecs)\n",
        "eigvals, eigvecs = la.eig(B2)\n",
        "print( ' Para el caso de B2:' )\n",
        "print('Eigenvalores:', eigvals)\n",
        "print('Eigenvectores:', eigvecs)\n",
        "eigvals, eigvecs = la.eig(B3)\n",
        "print( ' Para el caso de B3:' )\n",
        "print('Eigenvalores:', eigvals)\n",
        "print('Eigenvectores:', eigvecs)"
      ],
      "execution_count": null,
      "outputs": [
        {
          "output_type": "stream",
          "text": [
            " Para el caso de B1:\n",
            "Eigenvalores: [11.+0.j  1.+0.j  2.+0.j]\n",
            "Eigenvectores: [[ 0.          0.          1.        ]\n",
            " [ 0.4472136   0.89442719  0.        ]\n",
            " [ 0.89442719 -0.4472136   0.        ]]\n",
            " Para el caso de B2:\n",
            "Eigenvalores: [-0.5+0.8660254j -0.5-0.8660254j  1. +0.j       ]\n",
            "Eigenvectores: [[ 0.57735027+0.j   0.57735027-0.j  -0.57735027+0.j ]\n",
            " [-0.28867513+0.5j -0.28867513-0.5j -0.57735027+0.j ]\n",
            " [-0.28867513-0.5j -0.28867513+0.5j -0.57735027+0.j ]]\n",
            " Para el caso de B3:\n",
            "Eigenvalores: [3.+0.j 3.+0.j 2.+0.j 2.+0.j]\n",
            "Eigenvectores: [[ 0.00000000e+00  0.00000000e+00  0.00000000e+00  2.56395025e-16]\n",
            " [ 0.00000000e+00  0.00000000e+00  5.77350269e-01 -5.77350269e-01]\n",
            " [ 0.00000000e+00  6.66133815e-16 -5.77350269e-01  5.77350269e-01]\n",
            " [ 1.00000000e+00 -1.00000000e+00  5.77350269e-01 -5.77350269e-01]]\n"
          ],
          "name": "stdout"
        }
      ]
    },
    {
      "cell_type": "markdown",
      "metadata": {
        "id": "8rRrGl05FJ30"
      },
      "source": [
        "### Aplicaciones de sistemas de ecuaciones lineales.\n",
        "\n",
        "**[Interpolación polinomial](https://en.wikipedia.org/wiki/Polynomial_interpolation#Constructing_the_interpolation_polynomial).**\n",
        "\n",
        "Supongamos que tenemos una función $p(x)$ que deseamos interpolar de la forma\n",
        "\n",
        "\\begin{equation*}\n",
        "p(x) = a_n x^n + a_{n-1} x^{n-1} + a_{n-2} x^{n-2} + \\cdots + a_2 x^2 + a_1 x + a_0 \n",
        "\\end{equation*}\n",
        "\n",
        "Si p(x) interpola un conjunto de puntos dados, entonces se tiene que\n",
        "\n",
        "\\begin{equation*}\n",
        "p(x_i) = y_i \\qquad \\forall i \\in \\{0, 1, \\ldots , n\\}\n",
        "\\end{equation*}\n",
        "\n",
        "Substituimos entonces la primera ecuación en el último conjunto de ecuaciones obtenemos un sistema de ecuaciones lineales de los coeficientes desconocidos $a_k$ con $k=0,1,\\ldots,n$.\n",
        "\n",
        "\\begin{equation*}\n",
        "\\begin{bmatrix}\n",
        "x_0^n & x_0^{n-1} & x_0^{n-2} & \\cdots & x_0 & 1 \\\\\n",
        "x_1^n & x_1^{n-1} & x_1^{n-2} & \\cdots & x_1 & 1 \\\\\n",
        "\\vdots & \\vdots & \\vdots &     & \\vdots & \\vdots \\\\  \n",
        "x_n^n & x_n^{n-1} & x_n^{n-2} & \\cdots & x_n & 1 \\\\\n",
        "\\end{bmatrix}\n",
        "\\begin{bmatrix}\n",
        "a_n \\\\ \n",
        "a_{n-1} \\\\ \n",
        "\\vdots \\\\\n",
        " a_0 \\\\\n",
        "\\end{bmatrix}\n",
        "=\n",
        "\\begin{bmatrix}\n",
        "y_0 \\\\\n",
        "y_1 \\\\\n",
        "\\vdots \\\\\n",
        "y_n \\\\\n",
        "\\end{bmatrix}\n",
        "\\end{equation*}\n",
        "\n",
        "La ecuación matricial anterior la podemos expresar como\n",
        "\n",
        "\\begin{equation*}\n",
        "X \\vec{a} = \\vec{y}\n",
        "\\end{equation*}\n",
        "\n",
        "A la matriz de la izquierda $X$, se le conoce como la [matriz de Vandermonde](https://en.wikipedia.org/wiki/Vandermonde_matrix).\n",
        "En la gráfica siguiente, se muestra un polinomio interpolante $p(x)$ en azul, y los puntos rojos son los puntos conocidos que deseamos interpolar.\n"
      ]
    },
    {
      "cell_type": "markdown",
      "metadata": {
        "id": "5qpnA-0KFlu1"
      },
      "source": [
        "![image.png](data:image/png;base64,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)"
      ]
    },
    {
      "cell_type": "markdown",
      "metadata": {
        "id": "XISWV0ebFnH6"
      },
      "source": [
        "**Ejemplo 1: Interpolación.** Supongamos que conocemos un conjunto de 3 puntos $(x_0, y_0)$, $(x_1, y_1)$ y $(x_2, y_2)$. Buscamos entonces encontrar un polinomio de orden 2 que pase por esos 3 puntos. \n",
        "\n",
        "La parábola $p(x) = a_0 + a_1 x + a_2 x^2$ pasa por esos puntos si se satisfacen el siguiente sistema de ecuaciones\n",
        "\n",
        "\\begin{eqnarray*}\n",
        "a_0 + a_1 x_0 + a_2 x_0^2 & = & y_0 \\\\\n",
        "a_0 + a_1 x_1 + a_2 x_1^2 & = & y_1 \\\\\n",
        "a_0 + a_1 x_2 + a_2 x_2^2 & = & y_2 \\\\\n",
        "\\end{eqnarray*}\n",
        "\n",
        "Busquemos una parábola que pasa por los 3 puntos: $(0,6)$, $(3,1)$ y $(8,2)$.\n",
        "\n",
        "Entonces la matriz de Vandermonde que pasa por los puntos \n"
      ]
    },
    {
      "cell_type": "code",
      "metadata": {
        "colab": {
          "base_uri": "https://localhost:8080/"
        },
        "id": "GGtZsvOYFvqz",
        "outputId": "01f4c081-c71a-45bb-88eb-e427c129232a"
      },
      "source": [
        "# Matriz de Vandermonde X para una parábola que pasa por x=0,3,8\n",
        "x = np.array([0,3,8])\n",
        "X = np.column_stack([[1,1,1],x,x**2])\n",
        "print(X)"
      ],
      "execution_count": null,
      "outputs": [
        {
          "output_type": "stream",
          "text": [
            "[[ 1  0  0]\n",
            " [ 1  3  9]\n",
            " [ 1  8 64]]\n"
          ],
          "name": "stdout"
        }
      ]
    },
    {
      "cell_type": "code",
      "metadata": {
        "colab": {
          "base_uri": "https://localhost:8080/"
        },
        "id": "nViZ1k4THJuv",
        "outputId": "d20f546c-38e8-4343-c18b-4ebc47c77ca7"
      },
      "source": [
        "# El vector y que pasa por y=6,1,2\n",
        "y = np.array([6,1,2]).reshape(3,1)\n",
        "print(y)"
      ],
      "execution_count": null,
      "outputs": [
        {
          "output_type": "stream",
          "text": [
            "[[6]\n",
            " [1]\n",
            " [2]]\n"
          ],
          "name": "stdout"
        }
      ]
    },
    {
      "cell_type": "code",
      "metadata": {
        "colab": {
          "base_uri": "https://localhost:8080/"
        },
        "id": "-EpWlhaeHMON",
        "outputId": "16df9c11-73bf-4521-a3ea-92c919fc8b92"
      },
      "source": [
        "# Resolvemos la ecuación Xa = y, para los coeficientes desconocidos a\n",
        "# Usamos la función scipy.linalg.solve()\n",
        "a = la.solve(X,y)\n",
        "print(a)"
      ],
      "execution_count": null,
      "outputs": [
        {
          "output_type": "stream",
          "text": [
            "[[ 6.        ]\n",
            " [-2.36666667]\n",
            " [ 0.23333333]]\n"
          ],
          "name": "stdout"
        }
      ]
    },
    {
      "cell_type": "code",
      "metadata": {
        "colab": {
          "base_uri": "https://localhost:8080/",
          "height": 295
        },
        "id": "8Kmr9sfbHPcu",
        "outputId": "40ea64a3-1f2d-47bf-9327-4cae3f719ee4"
      },
      "source": [
        "# Graficamos los resultados del polinomio interpolante de coeficientes a[0], a[1], y a[2]\n",
        "# Sobreponemos en la gráfica los puntos conocidos en azul con puntos ('b.')\n",
        "xs = np.linspace(0,8,20)\n",
        "ys = a[0] + a[1]*xs + a[2]*xs**2\n",
        "plt.plot(xs,ys,x,y,'b.',ms=20)\n",
        "plt.grid()\n",
        "plt.title('Polinomio interpolante p(x)')\n",
        "plt.xlabel('x')\n",
        "plt.ylabel('y')\n",
        "plt.show()"
      ],
      "execution_count": null,
      "outputs": [
        {
          "output_type": "display_data",
          "data": {
            "image/png": "[encoded data removed]",
            "text/plain": [
              "<Figure size 432x288 with 1 Axes>"
            ]
          },
          "metadata": {
            "tags": [],
            "needs_background": "light"
          }
        }
      ]
    },
    {
      "cell_type": "markdown",
      "metadata": {
        "id": "FbZiTA0sHe_O"
      },
      "source": [
        "**Ejemplo 2: Interpolación.** \n",
        "Ahora buscaremos un polinomio que pasa por 10 puntos: $(0,y_0), (1,y_1), \\ldots , (9,y_9)$, donde $y_k$ son 10 números aleatorios. "
      ]
    },
    {
      "cell_type": "code",
      "metadata": {
        "colab": {
          "base_uri": "https://localhost:8080/",
          "height": 295
        },
        "id": "l8Fs5NNLH7ie",
        "outputId": "ebc3075c-bcc6-441d-d04c-5b15e7314b23"
      },
      "source": [
        "# Generamos los 10 puntos aleatorios entre 0 y 10.\n",
        "# graficamos los puntos aleatorios en rojo con puntos ('r.')\n",
        "N = 10\n",
        "x = np.arange(0,N)\n",
        "y = np.random.randint(0,10,N)\n",
        "plt.plot(x,y,'r.')\n",
        "plt.grid()\n",
        "plt.title('Puntos aleatorios que deseamos interpolar')\n",
        "plt.xlabel('x')\n",
        "plt.ylabel('y')\n",
        "plt.show()"
      ],
      "execution_count": null,
      "outputs": [
        {
          "output_type": "display_data",
          "data": {
            "image/png": "[encoded data removed]",
            "text/plain": [
              "<Figure size 432x288 with 1 Axes>"
            ]
          },
          "metadata": {
            "tags": [],
            "needs_background": "light"
          }
        }
      ]
    },
    {
      "cell_type": "code",
      "metadata": {
        "colab": {
          "base_uri": "https://localhost:8080/"
        },
        "id": "8Qj-xHefH_Cr",
        "outputId": "bacdfc29-fc3b-4898-ac1a-5492a7ff6f01"
      },
      "source": [
        "# Creamos la matriz de Vandemonde, e imprimimos los primeros 5 renglones y columnas\n",
        "X = np.column_stack([x**k for k in range(0,N)])\n",
        "print(X[:5,:5])"
      ],
      "execution_count": null,
      "outputs": [
        {
          "output_type": "stream",
          "text": [
            "[[  1   0   0   0   0]\n",
            " [  1   1   1   1   1]\n",
            " [  1   2   4   8  16]\n",
            " [  1   3   9  27  81]\n",
            " [  1   4  16  64 256]]\n"
          ],
          "name": "stdout"
        }
      ]
    },
    {
      "cell_type": "code",
      "metadata": {
        "colab": {
          "base_uri": "https://localhost:8080/"
        },
        "id": "Im3hHQdlICPa",
        "outputId": "b9c586c0-16de-4f02-ec24-632195729e53"
      },
      "source": [
        "# La biblioteca Numpy tambien tiene una función para crear la matriz de Vandermonde\n",
        "X = np.vander(x,increasing=True)\n",
        "# Sólo imprimimos los primeros 5 renglones y columnas.\n",
        "print(X[:5,:5])"
      ],
      "execution_count": null,
      "outputs": [
        {
          "output_type": "stream",
          "text": [
            "[[  1   0   0   0   0]\n",
            " [  1   1   1   1   1]\n",
            " [  1   2   4   8  16]\n",
            " [  1   3   9  27  81]\n",
            " [  1   4  16  64 256]]\n"
          ],
          "name": "stdout"
        }
      ]
    },
    {
      "cell_type": "code",
      "metadata": {
        "colab": {
          "base_uri": "https://localhost:8080/"
        },
        "id": "iZJtIUpvIFji",
        "outputId": "9d8da979-7add-42cf-a24c-f3a10b703dc0"
      },
      "source": [
        "# Usamos la función de scipy.linalg.solve(), para encontrar los 10 coeficientes\n",
        "# de la ecuación lineal Xa=y\n",
        "a = la.solve(X,y)\n",
        "print(a)"
      ],
      "execution_count": null,
      "outputs": [
        {
          "output_type": "stream",
          "text": [
            "[ 2.00000000e+00  1.81191667e+02 -4.38606250e+02  4.22065145e+02\n",
            " -2.13581771e+02  6.30487847e+01 -1.12427083e+01  1.19270833e+00\n",
            " -6.92708333e-02  1.69477513e-03]\n"
          ],
          "name": "stdout"
        }
      ]
    },
    {
      "cell_type": "code",
      "metadata": {
        "colab": {
          "base_uri": "https://localhost:8080/",
          "height": 295
        },
        "id": "PFvJK-J8IO28",
        "outputId": "8ee1435f-2095-48c3-9111-d90e651dc909"
      },
      "source": [
        "# Graficamos el polinomio interpolante y los puntos interpolados\n",
        "# Los puntos interpolados en rojo ('r.')\n",
        "xs = np.linspace(0,N-1,200)\n",
        "ys = sum([a[k]*xs**k for k in range(0,N)])\n",
        "plt.plot(x,y,'r.',xs,ys)\n",
        "plt.grid()\n",
        "plt.title('Polinomio interpolante p(x)')\n",
        "plt.xlabel('x')\n",
        "plt.ylabel('y')\n",
        "plt.show()"
      ],
      "execution_count": null,
      "outputs": [
        {
          "output_type": "display_data",
          "data": {
            "image/png": "[encoded data removed]",
            "text/plain": [
              "<Figure size 432x288 with 1 Axes>"
            ]
          },
          "metadata": {
            "tags": [],
            "needs_background": "light"
          }
        }
      ]
    },
    {
      "cell_type": "markdown",
      "metadata": {
        "id": "CddvxhzqITcs"
      },
      "source": [
        "Observamos que el polinomio interpolante oscila mucho cerca de los extremos. Cuando se tengan muchos puntos, no será deseable hacer una interpolación. Será mejor ajustar un polinomio de orden menor, usando alguna regresión lineal o cuadrática (por ej. ajuste de mínimos cuadrados)."
      ]
    },
    {
      "cell_type": "markdown",
      "metadata": {
        "id": "pCVoLeogJX54"
      },
      "source": [
        "### Regresión Lineal de Mínimos Cuadrados\n",
        "\n",
        "Supongamos que tenemos $(n+1)$ puntos $(x_0, y_0), (x_1,y_1), \\ldots , (x_n, y_n)$ en el plano y deseamos ajustar una curva $y = a_0 + a_1 x$ que \"mejor ajuste\" al conjunto de datos.\n",
        "\n",
        "El método que \"mejor ajusta\", es el [método de regresión lineal](https://en.wikipedia.org/wiki/Linear_regression), dado que minimiza la suma de los errores cuadrados $SSE$. \n",
        "\n",
        "\\begin{equation*}\n",
        "SSE = \\sum_i (y_i - (a_0 + a_1 x_i))^2\n",
        "\\end{equation*}\n",
        "\n",
        "En forma matricial, la regresión lineal se puede expresar como \n",
        "\n",
        "\\begin{equation*}\n",
        "X = \n",
        "\\begin{bmatrix}\n",
        "1 & x_1 \\\\\n",
        "1 & x_2 \\\\\n",
        "\\vdots & \\vdots \\\\\n",
        "1 & x_n \\\\\n",
        "\\end{bmatrix}, \\vec{y} = \n",
        "\\begin{bmatrix}\n",
        " y_1 \\\\\n",
        " y_2 \\\\\n",
        "\\vdots \\\\\n",
        " y_n \\\\\n",
        "\\end{bmatrix}, \\vec{a} = \n",
        "\\begin{bmatrix}\n",
        "a_0 \\\\\n",
        "a_1 \\\\\n",
        "\\end{bmatrix}\n",
        "\\end{equation*}\n",
        "\n",
        "y la $SSE$ se puede resumir como \n",
        "\\begin{equation*}\n",
        "SSE = || \\vec{y} - X \\vec{a} ||^2\n",
        "\\end{equation*}\n",
        "\n",
        "Los coeficientes $\\vec{a}$ que minimizan la ecuación anterior,  tiene solución única si y sólo si las columnas de la matriz $X$ son linealmente independientes. La matriz $X^T X$ es simétrica y por lo tanto diagonalizable. Multiplicaremos por $X^T$ por la izquierda la ecuación anterior y resulta:\n",
        "\n",
        "\\begin{eqnarray*}\n",
        "(\\vec{y} - X \\vec{a}) & = & 0 \\\\\n",
        "X^T (\\vec{y} - X \\vec{a}) & = & 0 \\\\\n",
        "X^T \\vec{y} - (X^T X) \\vec{a} & = & 0 \\\\\n",
        "(X^T X) \\vec{a} & = & X^T \\vec{y}\n",
        "\\end{eqnarray*}\n",
        "\n",
        "La última ecuación habrá que resolverla para $\\vec{a}$.\n"
      ]
    },
    {
      "cell_type": "markdown",
      "metadata": {
        "id": "0U2i15s_Js79"
      },
      "source": [
        "**Ejemplo: Regresión Lineal.**\n",
        "\n",
        "Ajustaremos un línea recta a una colección de puntos aleatorios que generaremos alrededor de una recta $y = a_0 + a_1 x + \\epsilon$, donde $\\epsilon$ es una variable aleatoria con distribución normal. Utilizaremos la función *numpy.random.rand()*."
      ]
    },
    {
      "cell_type": "code",
      "metadata": {
        "colab": {
          "base_uri": "https://localhost:8080/",
          "height": 295
        },
        "id": "oxitrxjoJy4d",
        "outputId": "86a917dd-93af-4219-ab3f-38cbd0deb264"
      },
      "source": [
        "# Datos aleatorios que yacen alrededor de una recta\n",
        "# Coeficientes de la recta\n",
        "a0 = 2\n",
        "a1 = 3\n",
        "# Número de puntos entre (0,1)\n",
        "N = 100\n",
        "x = np.random.rand(100)\n",
        "# Ruido gaussiano\n",
        "noise = 0.2*np.random.randn(100)\n",
        "# Agregamos el ruido a la recta\n",
        "y = a0 + a1*x + noise\n",
        "\n",
        "plt.scatter(x,y);\n",
        "plt.grid()\n",
        "plt.title('Datos aleatorios')\n",
        "plt.xlabel('x')\n",
        "plt.ylabel('y')\n",
        "plt.show()"
      ],
      "execution_count": null,
      "outputs": [
        {
          "output_type": "display_data",
          "data": {
            "image/png": "[encoded data removed]",
            "text/plain": [
              "<Figure size 432x288 with 1 Axes>"
            ]
          },
          "metadata": {
            "tags": [],
            "needs_background": "light"
          }
        }
      ]
    },
    {
      "cell_type": "code",
      "metadata": {
        "colab": {
          "base_uri": "https://localhost:8080/"
        },
        "id": "jkD3wMaBKAyW",
        "outputId": "54e4bc92-70d6-49d9-a0e7-1ac175e0341e"
      },
      "source": [
        "# Creamos la matriz X, con 1's en la primera columna y los puntos x_k en la segunda.\n",
        "X = np.column_stack([np.ones(N),x])\n",
        "print('Shape:', X.shape)\n",
        "# Imprimimos los primeros 5 renglones para verificar\n",
        "print(X[:5,:])"
      ],
      "execution_count": null,
      "outputs": [
        {
          "output_type": "stream",
          "text": [
            "Shape: (100, 2)\n",
            "[[1.         0.83437724]\n",
            " [1.         0.19504258]\n",
            " [1.         0.21023996]\n",
            " [1.         0.08593829]\n",
            " [1.         0.01272275]]\n"
          ],
          "name": "stdout"
        }
      ]
    },
    {
      "cell_type": "code",
      "metadata": {
        "colab": {
          "base_uri": "https://localhost:8080/"
        },
        "id": "vysMZgZLKFgH",
        "outputId": "93394d8c-e67b-44cc-eb55-3d6c8d30a9df"
      },
      "source": [
        "# Usamos la función scipy.linalg.solve() para resolver la ecuación X.T@X@a = X.T@y respecto a 'a'\n",
        "a = la.solve(X.T @ X, X.T @ y)\n",
        "print(a)"
      ],
      "execution_count": null,
      "outputs": [
        {
          "output_type": "stream",
          "text": [
            "[2.07283735 2.84950187]\n"
          ],
          "name": "stdout"
        }
      ]
    },
    {
      "cell_type": "code",
      "metadata": {
        "colab": {
          "base_uri": "https://localhost:8080/",
          "height": 295
        },
        "id": "3hsmm_ZPKIpI",
        "outputId": "5414c308-ff3e-4200-a7b1-faab8228401a"
      },
      "source": [
        "# Graficamos el ajuste con esos 2 coeficientes de la regresión y = a_0 + a_1 x \n",
        "xs = np.linspace(0,1,10)\n",
        "ys = a[0] + a[1]*xs\n",
        "plt.plot(xs,ys,'r',linewidth=4)\n",
        "plt.scatter(x,y);\n",
        "plt.grid()\n",
        "plt.title('Ajuste mediante Regresión Lineal de los datos')\n",
        "plt.xlabel('x')\n",
        "plt.ylabel('y')\n",
        "plt.show()"
      ],
      "execution_count": null,
      "outputs": [
        {
          "output_type": "display_data",
          "data": {
            "image/png": "[encoded data removed]",
            "text/plain": [
              "<Figure size 432x288 with 1 Axes>"
            ]
          },
          "metadata": {
            "tags": [],
            "needs_background": "light"
          }
        }
      ]
    },
    {
      "cell_type": "markdown",
      "metadata": {
        "id": "-dPtIBfwKMbv"
      },
      "source": [
        "**Ajuste con un polinomio cuadrático.** \n",
        "\n",
        "Podemos extender el ejemplo anterios a una reglesión cuadrática de la forma $y = a_0 + a_1 x + a_2 x^2$."
      ]
    },
    {
      "cell_type": "code",
      "metadata": {
        "colab": {
          "base_uri": "https://localhost:8080/",
          "height": 295
        },
        "id": "R-PFGR3EKiLP",
        "outputId": "c756f021-dbc7-4150-f040-5c3acb6d24a3"
      },
      "source": [
        "# Los coeficientes para generar los datos\n",
        "a0 = 3\n",
        "a1 = 5\n",
        "a2 = 8\n",
        "# Generaremos 1000 datos aleatorios entre (0,1)\n",
        "N = 1000\n",
        "x = 2*np.random.rand(N) - 1 # Distribuimos los datos entre (-1,1)\n",
        "# Ruido gaussiano\n",
        "noise = np.random.randn(N)\n",
        "# Una parábola con ruido\n",
        "y = a0 + a1*x + a2*x**2 + noise\n",
        "plt.scatter(x,y,alpha=0.5,lw=0);\n",
        "plt.grid()\n",
        "plt.title('Colección de datos aleatorios')\n",
        "plt.xlabel('x')\n",
        "plt.ylabel('y')\n",
        "plt.show()"
      ],
      "execution_count": null,
      "outputs": [
        {
          "output_type": "display_data",
          "data": {
            "image/png": "[encoded data removed]",
            "text/plain": [
              "<Figure size 432x288 with 1 Axes>"
            ]
          },
          "metadata": {
            "tags": [],
            "needs_background": "light"
          }
        }
      ]
    },
    {
      "cell_type": "code",
      "metadata": {
        "colab": {
          "base_uri": "https://localhost:8080/"
        },
        "id": "aeF6BM9bKUiM",
        "outputId": "1dd6cecc-c18c-4a94-b4bc-2c4301cd85dd"
      },
      "source": [
        "# Construimos la matriz de Vandermonde\n",
        "X = np.column_stack([np.ones(N),x,x**2])\n",
        "print('Shape:', X.shape)\n",
        "# Imprimimos los primeros 5 renglones para verificar\n",
        "print(X[:5,:])"
      ],
      "execution_count": null,
      "outputs": [
        {
          "output_type": "stream",
          "text": [
            "Shape: (1000, 3)\n",
            "[[ 1.00000000e+00  3.02063062e-02  9.12420934e-04]\n",
            " [ 1.00000000e+00  5.05977120e-01  2.56012846e-01]\n",
            " [ 1.00000000e+00  8.57229739e-01  7.34842825e-01]\n",
            " [ 1.00000000e+00 -4.11694590e-01  1.69492436e-01]\n",
            " [ 1.00000000e+00 -8.73576930e-01  7.63136652e-01]]\n"
          ],
          "name": "stdout"
        }
      ]
    },
    {
      "cell_type": "code",
      "metadata": {
        "colab": {
          "base_uri": "https://localhost:8080/"
        },
        "id": "USZU9X_yKXEs",
        "outputId": "b00e4cf0-3a10-482d-87ba-e9ad35b6e085"
      },
      "source": [
        "# Usamos la función scipy.linalg.solve() para resolver la ecuación X.T@X@a = X.T@y respecto a 'a'\n",
        "a = la.solve(X.T @ X, X.T @ y)\n",
        "print(a)"
      ],
      "execution_count": null,
      "outputs": [
        {
          "output_type": "stream",
          "text": [
            "[3.01616332 4.94384061 7.9430214 ]\n"
          ],
          "name": "stdout"
        }
      ]
    },
    {
      "cell_type": "code",
      "metadata": {
        "colab": {
          "base_uri": "https://localhost:8080/",
          "height": 295
        },
        "id": "DbwPtA-tLy9y",
        "outputId": "1f37c682-825f-4c11-b5a7-35256789ed48"
      },
      "source": [
        "# Graficamos el resultado del ajuste\n",
        "xs = np.linspace(-1,1,20)\n",
        "ys = a[0] + a[1]*xs + a[2]*xs**2\n",
        "plt.plot(xs,ys,'r',linewidth=4)\n",
        "plt.scatter(x,y,alpha=0.5,lw=0)\n",
        "plt.grid()\n",
        "plt.title('Ajuste mediante Regresión Cuadrática a los datos')\n",
        "plt.xlabel('x')\n",
        "plt.ylabel('y')\n",
        "plt.show()"
      ],
      "execution_count": null,
      "outputs": [
        {
          "output_type": "display_data",
          "data": {
            "image/png": "[encoded data removed]",
            "text/plain": [
              "<Figure size 432x288 with 1 Axes>"
            ]
          },
          "metadata": {
            "tags": [],
            "needs_background": "light"
          }
        }
      ]
    },
    {
      "cell_type": "markdown",
      "metadata": {
        "id": "MbOQVRFeMDsk"
      },
      "source": [
        "**Ejercicio 5.**\n",
        "Se tienen los siguientes 8 puntos: \n",
        "\n",
        "\\begin{eqnarray*} \n",
        "(x&,&y) \\\\\n",
        "(0.0 &,& 0.0), \\\\ \n",
        "(0.5 &,& 0.47942), \\\\ \n",
        "(1.0 &,& 0.84147), \\\\\n",
        "(1.5 &,& 0.99749), \\\\\n",
        "(2.0 &,& 0.90930), \\\\\n",
        "(2.5 &,& 0.59847), \\\\\n",
        "(3.0 &,& 0.14112), \\\\\n",
        "(3.5 &,& -0.35078) \\\\\n",
        "\\end{eqnarray*}\n",
        "\n",
        "Encuentre un polinomio interpolante $p(x)$ que pase por los 8 puntos. \n",
        "\n",
        "Sobreponga la función $y=\\sin(x)$ y contrástela con el polinomio $p(x)$.\n",
        "\n",
        "**Ejercicio 6.** \n",
        "Regrese a su modelo de análisis de series de tiempo. Haga una descomposición de su serie de tiempo de las temperaturas (Tmax y Tmin), y realice una regresión lineal sobre la serie de Tendencia de Temp $(T = a_0 + a_1 t)$. Encuentre si la pendiente es positiva o negativa de la tendencia (signo de $a_1$), es decir si las Temperaturas (Tmax, Tmin) están subiendo o bajando en el periodo analizado.\n",
        "\n",
        "**NOTA:** Pueden trabajar en sus Notebooks de la Actividad 5 o 6 y hacer el ajuste de regresión lineal allá donde tienen todo cargado en la memoria y luego copiar unas celdas de texto de esa Notebook y agregarlas al final de su Notebook de la Actividad 7. Así no tienen que cargar a la memoria todas las operaciones. "
      ]
    },
    {
      "cell_type": "markdown",
      "metadata": {
        "id": "Gassi29DNdsr"
      },
      "source": [
        "Ejercicio 5\n"
      ]
    },
    {
      "cell_type": "code",
      "metadata": {
        "colab": {
          "base_uri": "https://localhost:8080/",
          "height": 295
        },
        "id": "rvXsH5XfNc_B",
        "outputId": "df61f3e1-4948-4597-f40e-ef33db2a99f0"
      },
      "source": [
        "#Ahora graficamos nuestros datos:\n",
        "# graficamos los puntos en rojo con puntos ('r.')\n",
        "N = 8\n",
        "x = np.arange(0,4)\n",
        "y = np.arange(-0.5,1)\n",
        "plt.plot(0,0,'r.')\n",
        "plt.plot(0.5,0.47942,'r.')\n",
        "plt.plot(1,0.84147,'r.')\n",
        "plt.plot(1.5,0.99749,'r.')\n",
        "plt.plot(2,0.90930,'r.')\n",
        "plt.plot(2.5,0.59847,'r.')\n",
        "plt.plot(3,0.14112,'r.')\n",
        "plt.plot(3.5,-0.35078,'r.')\n",
        "plt.grid()\n",
        "plt.title('Puntos aleatorios que deseamos interpolar')\n",
        "plt.xlabel('x')\n",
        "plt.ylabel('y')\n",
        "plt.show()"
      ],
      "execution_count": null,
      "outputs": [
        {
          "output_type": "display_data",
          "data": {
            "image/png": "[encoded data removed]",
            "text/plain": [
              "<Figure size 432x288 with 1 Axes>"
            ]
          },
          "metadata": {
            "tags": [],
            "needs_background": "light"
          }
        }
      ]
    },
    {
      "cell_type": "code",
      "metadata": {
        "colab": {
          "base_uri": "https://localhost:8080/"
        },
        "id": "kNLskm7aNmWb",
        "outputId": "3da876d4-7818-4fcb-970b-05daf9e27bf8"
      },
      "source": [
        "# Matriz de Vandermonde X para una parábola que pasa por x=0,3,8\n",
        "x = np.array([0,0.5,1,1.5,2,2.5,3,3.5])\n",
        "X = np.column_stack([[1,1,1,1,1,1,1,1],x,x**2,x**3,x**4,x**5,x**6,x**7])\n",
        "print(X)"
      ],
      "execution_count": null,
      "outputs": [
        {
          "output_type": "stream",
          "text": [
            "[[1.00000000e+00 0.00000000e+00 0.00000000e+00 0.00000000e+00\n",
            "  0.00000000e+00 0.00000000e+00 0.00000000e+00 0.00000000e+00]\n",
            " [1.00000000e+00 5.00000000e-01 2.50000000e-01 1.25000000e-01\n",
            "  6.25000000e-02 3.12500000e-02 1.56250000e-02 7.81250000e-03]\n",
            " [1.00000000e+00 1.00000000e+00 1.00000000e+00 1.00000000e+00\n",
            "  1.00000000e+00 1.00000000e+00 1.00000000e+00 1.00000000e+00]\n",
            " [1.00000000e+00 1.50000000e+00 2.25000000e+00 3.37500000e+00\n",
            "  5.06250000e+00 7.59375000e+00 1.13906250e+01 1.70859375e+01]\n",
            " [1.00000000e+00 2.00000000e+00 4.00000000e+00 8.00000000e+00\n",
            "  1.60000000e+01 3.20000000e+01 6.40000000e+01 1.28000000e+02]\n",
            " [1.00000000e+00 2.50000000e+00 6.25000000e+00 1.56250000e+01\n",
            "  3.90625000e+01 9.76562500e+01 2.44140625e+02 6.10351562e+02]\n",
            " [1.00000000e+00 3.00000000e+00 9.00000000e+00 2.70000000e+01\n",
            "  8.10000000e+01 2.43000000e+02 7.29000000e+02 2.18700000e+03]\n",
            " [1.00000000e+00 3.50000000e+00 1.22500000e+01 4.28750000e+01\n",
            "  1.50062500e+02 5.25218750e+02 1.83826562e+03 6.43392969e+03]]\n"
          ],
          "name": "stdout"
        }
      ]
    },
    {
      "cell_type": "code",
      "metadata": {
        "colab": {
          "base_uri": "https://localhost:8080/"
        },
        "id": "CVDuy5gaNqT4",
        "outputId": "9b5f5593-f3cc-454b-97ab-766be8cb51c9"
      },
      "source": [
        "# El vector y que pasa por y=6,1,2\n",
        "y = np.array([0,0.47942,0.84147,0.99749,0.90930,0.59847,0.14112,-0.35078]).reshape(8,1)\n",
        "print(y)"
      ],
      "execution_count": null,
      "outputs": [
        {
          "output_type": "stream",
          "text": [
            "[[ 0.     ]\n",
            " [ 0.47942]\n",
            " [ 0.84147]\n",
            " [ 0.99749]\n",
            " [ 0.9093 ]\n",
            " [ 0.59847]\n",
            " [ 0.14112]\n",
            " [-0.35078]]\n"
          ],
          "name": "stdout"
        }
      ]
    },
    {
      "cell_type": "code",
      "metadata": {
        "colab": {
          "base_uri": "https://localhost:8080/"
        },
        "id": "nHVRPIS5NsOh",
        "outputId": "766235ce-1581-47d8-aff9-ddb461b51c1f"
      },
      "source": [
        "# Resolvemos la ecuación Xa = y, para los coeficientes desconocidos a\n",
        "# Usamos la función scipy.linalg.solve()\n",
        "a = la.solve(X,y)\n",
        "print(a)"
      ],
      "execution_count": null,
      "outputs": [
        {
          "output_type": "stream",
          "text": [
            "[[ 0.00000000e+00]\n",
            " [ 1.00067181e+00]\n",
            " [-3.70788889e-03]\n",
            " [-1.58867889e-01]\n",
            " [-8.30222222e-03]\n",
            " [ 1.31964444e-02]\n",
            " [-1.54488889e-03]\n",
            " [ 2.46349206e-05]]\n"
          ],
          "name": "stdout"
        }
      ]
    },
    {
      "cell_type": "code",
      "metadata": {
        "colab": {
          "base_uri": "https://localhost:8080/",
          "height": 295
        },
        "id": "2jqr_vK6Nvx3",
        "outputId": "d3132395-d965-40e7-8742-5b4d32c16de6"
      },
      "source": [
        "# Graficamos los resultados del polinomio interpolante de coeficientes a[0], a[1], y a[2]\n",
        "# Sobreponemos en la gráfica los puntos conocidos en azul con puntos ('b.')\n",
        "xs = np.linspace(0,7,20)\n",
        "ys = a[0] + a[1]*xs + a[2]*xs**2 + a[3]*xs**4 + a[4]*xs**5 + a[4]*xs**6 + a[4]*xs**7 + a[4]*xs**8\n",
        "plt.plot(xs,ys,x,y,'b.',ms=20)\n",
        "plt.grid()\n",
        "plt.title('Polinomio interpolante p(x)')\n",
        "plt.xlabel('x')\n",
        "plt.ylabel('y')\n",
        "plt.show()"
      ],
      "execution_count": null,
      "outputs": [
        {
          "output_type": "display_data",
          "data": {
            "image/png": "[encoded data removed]",
            "text/plain": [
              "<Figure size 432x288 with 1 Axes>"
            ]
          },
          "metadata": {
            "tags": [],
            "needs_background": "light"
          }
        }
      ]
    },
    {
      "cell_type": "markdown",
      "metadata": {
        "id": "49q3kXDUNyTM"
      },
      "source": [
        "Ejercicio 6"
      ]
    },
    {
      "cell_type": "code",
      "metadata": {
        "colab": {
          "base_uri": "https://localhost:8080/",
          "height": 295
        },
        "id": "4zIMOZGlN9Bx",
        "outputId": "a46d6855-e2fd-44ab-c360-55da9379499d"
      },
      "source": [
        "# Vamos a hacer una regresión lineal con nuestros datos de temperatura\n",
        "# Coeficientes de la recta\n",
        "a0 = 5\n",
        "a1 = 10\n",
        "# Número de puntos entre (10,40)\n",
        "N = 100\n",
        "x = np.random.rand(100)\n",
        "# Ruido gaussiano\n",
        "noise = 0.2*np.random.randn(100)\n",
        "# Agregamos el ruido a la recta\n",
        "y = a0 + a1*x + noise\n",
        "\n",
        "plt.scatter(x,y);\n",
        "plt.grid()\n",
        "plt.title('Datos de temperatura')\n",
        "plt.xlabel('x')\n",
        "plt.ylabel('y')\n",
        "plt.show()\n"
      ],
      "execution_count": null,
      "outputs": [
        {
          "output_type": "display_data",
          "data": {
            "image/png": "[encoded data removed]",
            "text/plain": [
              "<Figure size 432x288 with 1 Axes>"
            ]
          },
          "metadata": {
            "tags": [],
            "needs_background": "light"
          }
        }
      ]
    },
    {
      "cell_type": "code",
      "metadata": {
        "colab": {
          "base_uri": "https://localhost:8080/"
        },
        "id": "r9YbwEbGO29t",
        "outputId": "2b076f83-c3a2-48f6-f12b-564fb500b410"
      },
      "source": [
        "# Creamos la matriz X, con 1's en la primera columna y los puntos x_k en la segunda.\n",
        "X = np.column_stack([np.ones(N),x])\n",
        "print('Shape:', X.shape)\n",
        "# Imprimimos los primeros 5 renglones para verificar\n",
        "print(X[:5,:])"
      ],
      "execution_count": null,
      "outputs": [
        {
          "output_type": "stream",
          "text": [
            "Shape: (100, 2)\n",
            "[[1.         0.94718043]\n",
            " [1.         0.17352054]\n",
            " [1.         0.76960422]\n",
            " [1.         0.65308427]\n",
            " [1.         0.12024157]]\n"
          ],
          "name": "stdout"
        }
      ]
    },
    {
      "cell_type": "code",
      "metadata": {
        "colab": {
          "base_uri": "https://localhost:8080/"
        },
        "id": "DtdWj7o9O5J4",
        "outputId": "26501afb-7022-4d39-bcb3-be7812dca594"
      },
      "source": [
        "# Usamos la función scipy.linalg.solve() para resolver la ecuación X.T@X@a = X.T@y respecto a 'a'\n",
        "a = la.solve(X.T @ X, X.T @ y)\n",
        "print(a)"
      ],
      "execution_count": null,
      "outputs": [
        {
          "output_type": "stream",
          "text": [
            "[ 4.97416255 10.0968092 ]\n"
          ],
          "name": "stdout"
        }
      ]
    },
    {
      "cell_type": "code",
      "metadata": {
        "colab": {
          "base_uri": "https://localhost:8080/",
          "height": 295
        },
        "id": "4XLMuqR2P9bf",
        "outputId": "40d2fbab-6e6d-4225-c7ab-9a6fa6cc71a2"
      },
      "source": [
        "xs = np.linspace(0,1,10)\n",
        "ys = a[0] + a[1]*xs\n",
        "plt.plot(xs,ys,'r',linewidth=4)\n",
        "plt.scatter(x,y);\n",
        "plt.grid()\n",
        "plt.title('Ajuste mediante Regresión Lineal de los datos')\n",
        "plt.xlabel('x')\n",
        "plt.ylabel('y')\n",
        "plt.show()"
      ],
      "execution_count": null,
      "outputs": [
        {
          "output_type": "display_data",
          "data": {
            "image/png": "[encoded data removed]",
            "text/plain": [
              "<Figure size 432x288 with 1 Axes>"
            ]
          },
          "metadata": {
            "tags": [],
            "needs_background": "light"
          }
        }
      ]
    },
    {
      "cell_type": "code",
      "metadata": {
        "colab": {
          "base_uri": "https://localhost:8080/",
          "height": 295
        },
        "id": "mZueoDzWQB3o",
        "outputId": "73f01538-9acc-4c1a-f896-0cd92e325eeb"
      },
      "source": [
        "# Los coeficientes para gererar los datos\n",
        "a0 = 1\n",
        "a1 = 3\n",
        "a2 = 7\n",
        "# Generaremos 1000 datos aleatorios entre (10,40)\n",
        "N = 1000\n",
        "x = 2*np.random.rand(N) - 1 # Distribuimos los datos entre (-1,1)\n",
        "# Ruido gaussiano\n",
        "noise = np.random.randn(N)\n",
        "# Una parábola con ruido\n",
        "y = a0 + a1*x + a2*x**2 + noise\n",
        "plt.scatter(x,y,alpha=0.5,lw=0);\n",
        "plt.grid()\n",
        "plt.title('Colección de datos aleatorios')\n",
        "plt.xlabel('x')\n",
        "plt.ylabel('y')\n",
        "plt.show()"
      ],
      "execution_count": null,
      "outputs": [
        {
          "output_type": "display_data",
          "data": {
            "image/png": "[encoded data removed]",
            "text/plain": [
              "<Figure size 432x288 with 1 Axes>"
            ]
          },
          "metadata": {
            "tags": [],
            "needs_background": "light"
          }
        }
      ]
    },
    {
      "cell_type": "code",
      "metadata": {
        "id": "I0-BOwBpQFZy",
        "colab": {
          "base_uri": "https://localhost:8080/"
        },
        "outputId": "fffc9985-c5da-4da2-b1e1-7a407fa9ad72"
      },
      "source": [
        "# Construimos la matriz de Vandermonde\n",
        "X = np.column_stack([np.ones(N),x,x**2])\n",
        "print('Shape:', X.shape)\n",
        "# Imprimimos los primeros 5 renglones para verificar\n",
        "print(X[:5,:])"
      ],
      "execution_count": null,
      "outputs": [
        {
          "output_type": "stream",
          "text": [
            "Shape: (1000, 3)\n",
            "[[ 1.         -0.95956734  0.92076948]\n",
            " [ 1.          0.15833721  0.02507067]\n",
            " [ 1.          0.518864    0.26921985]\n",
            " [ 1.          0.80762143  0.65225238]\n",
            " [ 1.         -0.56979405  0.32466526]]\n"
          ],
          "name": "stdout"
        }
      ]
    },
    {
      "cell_type": "code",
      "metadata": {
        "id": "cHWb-_OUQGXA",
        "colab": {
          "base_uri": "https://localhost:8080/"
        },
        "outputId": "a5aac286-50e7-4aad-f994-870c14102922"
      },
      "source": [
        "# Usamos la función scipy.linalg.solve() para resolver la ecuación X.T@X@a = X.T@y respecto a 'a'\n",
        "a = la.solve(X.T @ X, X.T @ y)\n",
        "print(a)"
      ],
      "execution_count": null,
      "outputs": [
        {
          "output_type": "stream",
          "text": [
            "[0.98990798 2.96970811 7.03045575]\n"
          ],
          "name": "stdout"
        }
      ]
    },
    {
      "cell_type": "code",
      "metadata": {
        "id": "EugnU2soQJmC",
        "colab": {
          "base_uri": "https://localhost:8080/",
          "height": 295
        },
        "outputId": "72dc60e5-0e25-4826-dd31-f106985493aa"
      },
      "source": [
        "xs = np.linspace(-1,1,5)\n",
        "ys = a[0] + a[1]*xs + a[2]*xs**2\n",
        "plt.plot(xs,ys,'r',linewidth=4)\n",
        "plt.scatter(x,y,alpha=0.5,lw=0)\n",
        "plt.grid()\n",
        "plt.title('Ajuste mediante Regresión Cuadrática para nuestras temperaturas')\n",
        "plt.xlabel('x')\n",
        "plt.ylabel('y')\n",
        "plt.show()\n"
      ],
      "execution_count": null,
      "outputs": [
        {
          "output_type": "display_data",
          "data": {
            "image/png": "[encoded data removed]",
            "text/plain": [
              "<Figure size 432x288 with 1 Axes>"
            ]
          },
          "metadata": {
            "tags": [],
            "needs_background": "light"
          }
        }
      ]
    }
  ]
}